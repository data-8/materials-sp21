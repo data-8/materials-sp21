{
 "cells": [
  {
   "cell_type": "markdown",
   "metadata": {},
   "source": [
    "<h1> Lecture 11  \n",
    "\n",
    "Data Science 8, Spring 2021 </h1>"
   ]
  },
  {
   "cell_type": "markdown",
   "metadata": {},
   "source": [
    "<h3>\n",
    "<b>\n",
    "    <ul>\n",
    "        <li>Prediction  </li>\n",
    "        <li>Groups      </li>\n",
    "        <li>Lists       </li>\n",
    "        <li>Pivots      </li>\n",
    "    </ul>\n",
    "</b>\n",
    "</h3>"
   ]
  },
  {
   "cell_type": "code",
   "execution_count": null,
   "metadata": {},
   "outputs": [],
   "source": [
    "from datascience import *\n",
    "import numpy as np\n",
    "import warnings\n",
    "warnings.filterwarnings(\"ignore\")\n",
    "\n",
    "%matplotlib inline\n",
    "import matplotlib.pyplot as plots\n",
    "plots.style.use('fivethirtyeight')\n",
    "plots.rcParams[\"patch.force_edgecolor\"] = True\n",
    "\n",
    "#The following allows porting images into a Markdown window\n",
    "from IPython.display import Image"
   ]
  },
  {
   "cell_type": "markdown",
   "metadata": {},
   "source": [
    "## Prediction ##"
   ]
  },
  {
   "cell_type": "code",
   "execution_count": null,
   "metadata": {
    "scrolled": true
   },
   "outputs": [],
   "source": [
    "heights = Table.read_table('heights.csv')\n",
    "heights"
   ]
  },
  {
   "cell_type": "markdown",
   "metadata": {},
   "source": [
    "<h3>\n",
    "    <ul>\n",
    "    <b><li> <tt> 'family'</tt>: Index Number of the Family (categorical)</li></b>\n",
    "    <b><li> <tt> 'father'</tt>: Father's Height (inches) </li></b> \n",
    "    <b><li> <tt> 'mother'</tt>: Father's Height  (inches) </li></b> \n",
    "    <b><li> <tt> 'midparentHeight'</tt>: Weighted Average of the Parents' Heights (inches) </li></b> \n",
    "    <b><li> <tt> 'children'</tt>: Number of Children in the Family  </li></b> \n",
    "    <b><li> <tt> 'childNum'</tt>: Birth Order of the Child (e.g., 2 means second child)  </li></b> \n",
    "    <b><li> <tt> 'childHeight'</tt>: Height of the Child (inches) in Adulthood </li></b>    \n",
    "    </ul> \n",
    "</h3>    "
   ]
  },
  {
   "cell_type": "markdown",
   "metadata": {},
   "source": [
    "<h2> Let's explore relationship between <tt>midparentHeight</tt> and <tt>childHeight</tt>. </h2>\n",
    "\n",
    "<h3> What's a good type of plot for this purpose? </h3>"
   ]
  },
  {
   "cell_type": "code",
   "execution_count": null,
   "metadata": {},
   "outputs": [],
   "source": [
    "heights.scatter('midparentHeight', 'childHeight')"
   ]
  },
  {
   "cell_type": "markdown",
   "metadata": {},
   "source": [
    "<h3>\n",
    "Suppose we know the <tt>midparentHeight</tt> is 68 inches for a particular family.  \n",
    "    \n",
    "What can we say about the child's height when they turn into an adult?\n",
    "</h3>"
   ]
  },
  {
   "cell_type": "markdown",
   "metadata": {},
   "source": [
    "<h3> Let's look at other families whose <tt>midparentHeight</tt> are near 68 inches. </h3>"
   ]
  },
  {
   "cell_type": "code",
   "execution_count": null,
   "metadata": {},
   "outputs": [],
   "source": [
    "heights.scatter('midparentHeight', 'childHeight')\n",
    "#The following lines plot vertical reference lines\n",
    "#lw denotes line width\n",
    "plots.plot([67.5, 67.5], [50, 85], color='purple', lw=2)  #lw denotes line width\n",
    "plots.plot([68.5, 68.5], [50, 85], color='orange', lw=2);"
   ]
  },
  {
   "cell_type": "markdown",
   "metadata": {},
   "source": [
    "<h3> Now let's calculate the Average Height of the people within the region bounded by the vertical lines. </h3>"
   ]
  },
  {
   "cell_type": "markdown",
   "metadata": {},
   "source": [
    "<h3> Grab only the rows where midparentHeight is in the interval   \n",
    "$$67.5 \\leq \\texttt{midparentHeight} < 68.5.$$\n",
    "\n",
    "</h3>"
   ]
  },
  {
   "cell_type": "code",
   "execution_count": null,
   "metadata": {
    "scrolled": true
   },
   "outputs": [],
   "source": [
    "# Grab only the rows where midparentHeight is in the interval 67.5 <= midparentHeight < 68.5\n",
    "nearby = heights.where('midparentHeight', are.between(67.5, 68.5))  "
   ]
  },
  {
   "cell_type": "markdown",
   "metadata": {},
   "source": [
    "<h3> Now take average height of the children in such families </h3>\n",
    "\n",
    "<h2> New Function Alert: <tt>mean</tt></h2>"
   ]
  },
  {
   "cell_type": "code",
   "execution_count": null,
   "metadata": {
    "scrolled": true
   },
   "outputs": [],
   "source": [
    "#Take the average \n",
    "nearby_mean = nearby.column('childHeight').mean()\n",
    "nearby_mean"
   ]
  },
  {
   "cell_type": "markdown",
   "metadata": {},
   "source": [
    "<h3> Now insert this average in the table above.</h3>"
   ]
  },
  {
   "cell_type": "code",
   "execution_count": null,
   "metadata": {
    "scrolled": true
   },
   "outputs": [],
   "source": [
    "heights.scatter('midparentHeight', 'childHeight')\n",
    "plots.plot([67.5, 67.5], [50, 85], color='purple', lw=2)\n",
    "plots.plot([68.5, 68.5], [50, 85], color='orange', lw=2)\n",
    "#We insert a dot of size s=70, of our desired color, as a single-point superimposed on the original plot.\n",
    "plots.scatter(68, nearby_mean, color='red', s=70);  # s=50 specifies the size of the dot"
   ]
  },
  {
   "cell_type": "markdown",
   "metadata": {},
   "source": [
    "<h3> Now let's generalize ...</h3>"
   ]
  },
  {
   "cell_type": "code",
   "execution_count": null,
   "metadata": {},
   "outputs": [],
   "source": [
    "def predict(midparentHeight):\n",
    "    nearby = heights.where('midparentHeight', are.between(midparentHeight - 1/2, midparentHeight + 1/2))\n",
    "    return nearby.column('childHeight').mean()"
   ]
  },
  {
   "cell_type": "code",
   "execution_count": null,
   "metadata": {},
   "outputs": [],
   "source": [
    "predict(68)"
   ]
  },
  {
   "cell_type": "code",
   "execution_count": null,
   "metadata": {},
   "outputs": [],
   "source": [
    "predict(70)"
   ]
  },
  {
   "cell_type": "code",
   "execution_count": null,
   "metadata": {},
   "outputs": [],
   "source": [
    "predict(73)"
   ]
  },
  {
   "cell_type": "markdown",
   "metadata": {},
   "source": [
    "<h3> Now <tt>apply</tt> our <tt>predict</tt> function to the entire table.</h3>"
   ]
  },
  {
   "cell_type": "code",
   "execution_count": null,
   "metadata": {},
   "outputs": [],
   "source": [
    "predicted_heights = heights.apply(predict, 'midparentHeight')\n",
    "predicted_heights"
   ]
  },
  {
   "cell_type": "markdown",
   "metadata": {},
   "source": [
    "<h3> Now add the predicted values as a new column to our table.</h3>"
   ]
  },
  {
   "cell_type": "code",
   "execution_count": null,
   "metadata": {},
   "outputs": [],
   "source": [
    "heights = heights.with_column('predictedHeight', predicted_heights)\n",
    "heights"
   ]
  },
  {
   "cell_type": "markdown",
   "metadata": {},
   "source": [
    "<h3>Q. Do you notice any patterns the <tt>predictedHeight</tt> column above?\n",
    "\n",
    "<ul> \n",
    "    <b><li> Siblings get the same predicted value. </li></b>    \n",
    "    <b><li> Our function tends to overestimate female heights and underestimate male heights. </li></b>    \n",
    "</ul>\n",
    "\n",
    "</h3>\n",
    "\n"
   ]
  },
  {
   "cell_type": "code",
   "execution_count": null,
   "metadata": {
    "scrolled": true
   },
   "outputs": [],
   "source": [
    "heights.select(\n",
    "    'midparentHeight', 'childHeight', 'predictedHeight').scatter('midparentHeight')"
   ]
  },
  {
   "cell_type": "markdown",
   "metadata": {},
   "source": [
    "<h3> When we call <tt>scatter</tt> with only one argument, it plots all other columns against that column specified as an argument to <tt>scatter</tt>.\n",
    "    \n",
    "So, here we plot <tt>childHeight</tt> and <tt>predictedHeight</tt> (yellow) against <tt>midparentHeight</tt> (horizontal axis).\n",
    "    \n",
    "</h3>"
   ]
  },
  {
   "cell_type": "markdown",
   "metadata": {},
   "source": [
    "<h2> Prediction Accuracy: How good are our predictions? </h2>"
   ]
  },
  {
   "cell_type": "markdown",
   "metadata": {},
   "source": [
    "<h3> Write a function that computes the difference between two values.</h3>"
   ]
  },
  {
   "cell_type": "code",
   "execution_count": null,
   "metadata": {},
   "outputs": [],
   "source": [
    "def difference(x, y):\n",
    "    return x - y"
   ]
  },
  {
   "cell_type": "markdown",
   "metadata": {},
   "source": [
    "<h3> Now <tt>apply</tt> to the <tt>predictedHeight</tt> and <tt>childHeight</tt> columns.</h3>"
   ]
  },
  {
   "cell_type": "code",
   "execution_count": null,
   "metadata": {},
   "outputs": [],
   "source": [
    "pred_errors = heights.apply(difference, 'predictedHeight', 'childHeight')\n",
    "pred_errors"
   ]
  },
  {
   "cell_type": "markdown",
   "metadata": {},
   "source": [
    "<h3> Add the errors array as a new column to our table.</h3>"
   ]
  },
  {
   "cell_type": "code",
   "execution_count": null,
   "metadata": {},
   "outputs": [],
   "source": [
    "heights = heights.with_column('errors',pred_errors)\n",
    "heights"
   ]
  },
  {
   "cell_type": "markdown",
   "metadata": {},
   "source": [
    "<h3> Now create a histogram of the errors.</h3>"
   ]
  },
  {
   "cell_type": "code",
   "execution_count": null,
   "metadata": {},
   "outputs": [],
   "source": [
    "heights.hist('errors')"
   ]
  },
  {
   "cell_type": "markdown",
   "metadata": {},
   "source": [
    "<h3> Make a histogram based on gender.</h3>"
   ]
  },
  {
   "cell_type": "code",
   "execution_count": null,
   "metadata": {
    "scrolled": true
   },
   "outputs": [],
   "source": [
    "heights.hist('errors', group='gender')"
   ]
  },
  {
   "cell_type": "markdown",
   "metadata": {},
   "source": [
    "# Discussion Question"
   ]
  },
  {
   "cell_type": "code",
   "execution_count": null,
   "metadata": {},
   "outputs": [],
   "source": [
    "def predict_smarter(h, g):\n",
    "    nearby = heights.where('midparentHeight', are.between(h - 1/2, h + 1/2))\n",
    "    nearby_same_gender = nearby.where('gender', g)\n",
    "    return nearby_same_gender.column('childHeight').mean()"
   ]
  },
  {
   "cell_type": "code",
   "execution_count": null,
   "metadata": {},
   "outputs": [],
   "source": [
    "predict_smarter(68, 'female')"
   ]
  },
  {
   "cell_type": "code",
   "execution_count": null,
   "metadata": {},
   "outputs": [],
   "source": [
    "predict_smarter(68, 'male')"
   ]
  },
  {
   "cell_type": "code",
   "execution_count": null,
   "metadata": {},
   "outputs": [],
   "source": [
    "smarter_predicted_heights = heights.apply(predict_smarter, 'midparentHeight', 'gender')\n",
    "heights = heights.with_column('smartPredictedHeight', smarter_predicted_heights)\n",
    "heights"
   ]
  },
  {
   "cell_type": "code",
   "execution_count": null,
   "metadata": {},
   "outputs": [],
   "source": [
    "smarter_pred_errs = heights.apply(difference, 'childHeight', 'smartPredictedHeight')\n",
    "heights = heights.with_column('smartErrors', smarter_pred_errs)\n",
    "heights"
   ]
  },
  {
   "cell_type": "code",
   "execution_count": null,
   "metadata": {},
   "outputs": [],
   "source": [
    "heights.hist('smartErrors', group='gender')"
   ]
  },
  {
   "cell_type": "markdown",
   "metadata": {},
   "source": [
    "<h1>Group</h1>\n",
    "\n",
    "<h2> The <span style='font-family:sans-serif'> <font color='blue'> group </font> </span> method aggregates&#8212;with respect to a particular column (attribute)&#8212;all rows having the same categorical value.\n",
    "<ul>\n",
    "    <li> <i>First argument:</i>         Which column to group by</li>\n",
    "    <li> <i>Second argument (Optional):</i> What do we want <span style='font-family:sans-serif'> <font color='blue'> group </font> </span> to do with each unique value of the attribute with respect to which the grouping takes place? </li>\n",
    "    <ul>\n",
    "        <li><span style='font-family:sans-serif'> <font color='blue'> len </font> </span> (default)&#8212;number of grouped values. Counts how many times each category appears.</li>\n",
    "        <li> <span style='font-family:sans-serif'> <font color='blue'> list</font> </span>&#8212;list of all grouped values.</li>\n",
    "        <li><span style='font-family:sans-serif'> <font color='blue'> sum</font> </span>&#8212;total of all grouped values.</li>\n",
    "    </ul>\n",
    "<ul>    \n",
    "<h2>"
   ]
  },
  {
   "cell_type": "markdown",
   "metadata": {},
   "source": [
    "<h2> Grouping by One Column </h2>"
   ]
  },
  {
   "cell_type": "code",
   "execution_count": null,
   "metadata": {},
   "outputs": [],
   "source": [
    "cones = Table.read_table('cones.csv')\n",
    "cones"
   ]
  },
  {
   "cell_type": "markdown",
   "metadata": {},
   "source": [
    "<h3>Group by Flavor (we've done this sort of thing before)</h3>  \n",
    "\n",
    "<h4> Notice, there's no second argument given to <tt>group</tt></h4>"
   ]
  },
  {
   "cell_type": "code",
   "execution_count": null,
   "metadata": {},
   "outputs": [],
   "source": [
    "cones.group('Flavor')"
   ]
  },
  {
   "cell_type": "markdown",
   "metadata": {},
   "source": [
    "<h4> Now let's take an average of the values for each column, relative to grouping based on Flavor</h4>"
   ]
  },
  {
   "cell_type": "code",
   "execution_count": null,
   "metadata": {
    "scrolled": true
   },
   "outputs": [],
   "source": [
    "cones.group('Flavor', np.average)"
   ]
  },
  {
   "cell_type": "markdown",
   "metadata": {},
   "source": [
    "<h4>The 'Price average' column consists of entries that correspond to the average price of bubblegum, chocolate, and strawberry icecreams, respectively.</h4>  \n",
    "\n",
    "<h4>Python doesn't know how to take an average of a categorical variable such as 'Color'.  So, let's remove the 'Color' column before we take the average.</h4>"
   ]
  },
  {
   "cell_type": "code",
   "execution_count": null,
   "metadata": {
    "scrolled": true
   },
   "outputs": [],
   "source": [
    "cones.drop('Color').group('Flavor', np.average)"
   ]
  },
  {
   "cell_type": "markdown",
   "metadata": {},
   "source": [
    "<h4>As a second argument, we can also use <tt>min</tt>, to determine the minimum price of each ice cream flavor.  Again, since Python doesn't know how to take the minimum of the entries in the 'Color' column, we first drop that column. </h4>"
   ]
  },
  {
   "cell_type": "code",
   "execution_count": null,
   "metadata": {},
   "outputs": [],
   "source": [
    "cones.drop('Color').group('Flavor', min)"
   ]
  },
  {
   "cell_type": "markdown",
   "metadata": {},
   "source": [
    "<h3> Grouping by One Column: Welcome Survey </h3>"
   ]
  },
  {
   "cell_type": "code",
   "execution_count": null,
   "metadata": {},
   "outputs": [],
   "source": [
    "survey = Table.read_table('welcome_survey_v1.csv')\n",
    "survey"
   ]
  },
  {
   "cell_type": "markdown",
   "metadata": {},
   "source": [
    "<h3> Q. How do the other variables relate to Extroversion? </h3>  \n",
    "\n",
    "<h5>Before we group, we remove all the columns that have categorical (non-numerical) values.</h5>"
   ]
  },
  {
   "cell_type": "code",
   "execution_count": null,
   "metadata": {},
   "outputs": [],
   "source": [
    "by_extroversion = survey.drop('Year','Handedness','Pant leg','Sleep position').group('Extroversion', np.average)\n",
    "by_extroversion"
   ]
  },
  {
   "cell_type": "markdown",
   "metadata": {},
   "source": [
    "<h3>We can plot the last two columns against Extroversion.</h3>"
   ]
  },
  {
   "cell_type": "code",
   "execution_count": null,
   "metadata": {},
   "outputs": [],
   "source": [
    "by_extroversion.plot('Extroversion') # Drop the categorical columns"
   ]
  },
  {
   "cell_type": "markdown",
   "metadata": {},
   "source": [
    "<h3>It's hard to tell from the plot above whether there's a trend in the Hours of sleep average.  \n",
    "    \n",
    "So, let's plot only that against Extroversion.</h3>"
   ]
  },
  {
   "cell_type": "code",
   "execution_count": null,
   "metadata": {
    "scrolled": true
   },
   "outputs": [],
   "source": [
    "by_extroversion.select(0,2).plot('Extroversion')"
   ]
  },
  {
   "cell_type": "markdown",
   "metadata": {},
   "source": [
    "<h3> The above is way too dramatized.</h3>  \n",
    "\n",
    "<h3>Rescale the vertical axis to see a more realistic variation in the number of hours of sleep. </h3>"
   ]
  },
  {
   "cell_type": "code",
   "execution_count": null,
   "metadata": {
    "scrolled": false
   },
   "outputs": [],
   "source": [
    "# Revisit the minimum and maximum sleep hours reported\n",
    "min_sleep=min(survey.column('Hours of sleep'))\n",
    "#min_sleep\n",
    "\n",
    "#max_sleep=max(survey.column('Hours of sleep'))\n",
    "#max_sleep\n",
    "\n",
    "#by_extroversion.select(0,2).plot('Extroversion')\n",
    "#plots.ylim(min_sleep, max_sleep);  # Optional for Data 8"
   ]
  },
  {
   "cell_type": "markdown",
   "metadata": {},
   "source": [
    "<h1> Lists </h1>\n",
    "\n",
    "<h3> In one sense, lists are like arrays&#8212;they're a sequence of values:\n",
    "<ul> \n",
    "    <li>Separated by commas; </li>\n",
    "    <li> Flanked on the two sides by a pair of square brackets [,,,]</li>\n",
    "</ul>\n",
    "</h3>\n",
    "\n",
    "    \n",
    "<h3>\n",
    "Distinctions between <tt>array</tt> and <tt>list</tt>\n",
    "<ul> \n",
    "    <li>Elements of an array <i>must be</i> of the same type.</li>\n",
    "    <li> Elements of a list <i>need not be</i> of the same type.</li>\n",
    "    <li> We can have nesting in a list&#8212;e.g., an array within a list, or a list within a list, etc. </li>\n",
    "    <li> Arrays are natural for holding columns. </li>\n",
    "    <li> Lists are natural for holding rows, since the elements across a row in a table need not be of the same type.</li>\n",
    "</ul>\n",
    "</h3>  "
   ]
  },
  {
   "cell_type": "markdown",
   "metadata": {},
   "source": [
    "## Simple Lists"
   ]
  },
  {
   "cell_type": "markdown",
   "metadata": {},
   "source": [
    "<h4>A list similar to an array</h4>"
   ]
  },
  {
   "cell_type": "code",
   "execution_count": null,
   "metadata": {},
   "outputs": [],
   "source": [
    "[1, 5, 9]"
   ]
  },
  {
   "cell_type": "markdown",
   "metadata": {},
   "source": [
    "<h4>Lists that contains multiple types of entries.</h4>"
   ]
  },
  {
   "cell_type": "code",
   "execution_count": null,
   "metadata": {},
   "outputs": [],
   "source": [
    "[1, 5, 'hello', 5.0]"
   ]
  },
  {
   "cell_type": "code",
   "execution_count": null,
   "metadata": {
    "scrolled": true
   },
   "outputs": [],
   "source": [
    "[1, 5, 'hello', 5.0, make_array(1,2,3)]"
   ]
  },
  {
   "cell_type": "markdown",
   "metadata": {},
   "source": [
    "<h3> Q. How many types does the following list contain? </h3>"
   ]
  },
  {
   "cell_type": "code",
   "execution_count": null,
   "metadata": {},
   "outputs": [],
   "source": [
    "simple_list= ['hello', 7, 10.1, np.pi, Table().with_column('K', [3, 4]), True]"
   ]
  },
  {
   "cell_type": "code",
   "execution_count": null,
   "metadata": {},
   "outputs": [],
   "source": [
    "np.pi"
   ]
  },
  {
   "cell_type": "code",
   "execution_count": null,
   "metadata": {
    "scrolled": true
   },
   "outputs": [],
   "source": [
    "abc=Table().with_column('K', [3, 4])\n",
    "abc"
   ]
  },
  {
   "cell_type": "code",
   "execution_count": null,
   "metadata": {},
   "outputs": [],
   "source": [
    "simple_list"
   ]
  },
  {
   "cell_type": "markdown",
   "metadata": {},
   "source": [
    "<h3>Nesting a List</h3>"
   ]
  },
  {
   "cell_type": "code",
   "execution_count": null,
   "metadata": {},
   "outputs": [],
   "source": [
    "my_array = make_array(1, 2, 3)\n",
    "\n",
    "crowded_list = [my_array, 'what is going on', -10]\n",
    "crowded_list"
   ]
  },
  {
   "cell_type": "code",
   "execution_count": null,
   "metadata": {},
   "outputs": [],
   "source": [
    "Table().with_columns('Numbers', [1, 2, 3])"
   ]
  },
  {
   "cell_type": "markdown",
   "metadata": {},
   "source": [
    "<h3> Create an empty table with only the column labels specified</h3>"
   ]
  },
  {
   "cell_type": "code",
   "execution_count": null,
   "metadata": {},
   "outputs": [],
   "source": [
    "drinks = Table(['Drink', 'Cafe', 'Price'])\n",
    "drinks"
   ]
  },
  {
   "cell_type": "markdown",
   "metadata": {},
   "source": [
    "<h3>Now construct the table row by row</h3>\n",
    "\n",
    "<h3>New Function Alert: <tt>table_name.with_rows([])</tt> </h3>\n",
    "\n",
    "<h4>Notice we have a list of four items, each of which is a list in its own right.</h4>"
   ]
  },
  {
   "cell_type": "code",
   "execution_count": null,
   "metadata": {},
   "outputs": [],
   "source": [
    "drinks = drinks.with_rows([\n",
    "    ['Milk Tea', 'Asha', 5.5],\n",
    "    ['Espresso', 'Strada',  1.75],\n",
    "    ['Latte',    'Strada',  3.25],\n",
    "    ['Espresso', \"FSM\",   2]\n",
    "])\n",
    "drinks"
   ]
  },
  {
   "cell_type": "markdown",
   "metadata": {},
   "source": [
    "<h1> Cross-Classification: Grouping by Two Columns </h1>\n",
    "\n",
    "SLIDE"
   ]
  },
  {
   "cell_type": "code",
   "execution_count": null,
   "metadata": {
    "scrolled": true
   },
   "outputs": [],
   "source": [
    "survey = Table.read_table('welcome_survey_v1.csv')"
   ]
  },
  {
   "cell_type": "markdown",
   "metadata": {},
   "source": [
    "<h2> Grouping by Two Columns </h2>\n",
    "\n",
    "<h3>To specify the multiple columns that we care about we pass them as a list to the first argument of <tt>group</tt>.</h3>"
   ]
  },
  {
   "cell_type": "code",
   "execution_count": null,
   "metadata": {
    "scrolled": true
   },
   "outputs": [],
   "source": [
    "survey.group(['Handedness','Sleep position']).show()  "
   ]
  },
  {
   "cell_type": "markdown",
   "metadata": {},
   "source": [
    "<h4>Q. Why do we use <tt>.show()</tt> in the cell above?</h4>\n",
    "\n",
    "<h4>Q. Is there an association between being <i>Handedness</i> and <i>Sleep position</i>?</h4>"
   ]
  },
  {
   "cell_type": "markdown",
   "metadata": {},
   "source": [
    "<h1> Pivot Tables </h1>\n",
    "\n",
    "<h2>Pivot Tables $\\longleftrightarrow$ Discern Association Between Two Categorical Variables</h2>\n",
    "\n",
    "<h2>Scatter Plots $\\longleftrightarrow$ Discern Association Between Two Numerical Variables</h2>"
   ]
  },
  {
   "cell_type": "markdown",
   "metadata": {},
   "source": [
    "<h2>\n",
    "Example:</h2>\n",
    "    <ul>\n",
    "        <li> <h3>Type of Environment A Person Lives In: Big City, Suburb, Rural.</h3></li>\n",
    "        <li> <h3>Political Party Affiliation: Republican, Democratic, Libertarian, Green, Other.</h3> </li>\n",
    "    </ul>\n",
    "</h2>\n",
    "\n",
    "<h4> One of these categories is assigned to the horiztonal axis of the Pivot Table, and the other is assigned to the vertical axis, thereby creating a $3\\times 5$ or $5\\times 3$ grid. "
   ]
  },
  {
   "cell_type": "markdown",
   "metadata": {},
   "source": [
    "SLIDE: Pivot Tables"
   ]
  },
  {
   "cell_type": "markdown",
   "metadata": {},
   "source": [
    "<h3>New Function Alert: <tt>table_name.pivot(List of Columns)</tt></h3>"
   ]
  },
  {
   "cell_type": "code",
   "execution_count": null,
   "metadata": {
    "scrolled": false
   },
   "outputs": [],
   "source": [
    "survey.pivot('Sleep position', 'Handedness')"
   ]
  },
  {
   "cell_type": "markdown",
   "metadata": {},
   "source": [
    "<h4>Each combination corresponds to a different location in the grid table above.</h4>"
   ]
  },
  {
   "cell_type": "markdown",
   "metadata": {},
   "source": [
    "<h3> How to Read the Table</h3>"
   ]
  },
  {
   "cell_type": "markdown",
   "metadata": {},
   "source": [
    "<h4> Suppose we want to determine if Left-Handed people are likelier to sleep on their left or right sides.</h4>  \n",
    "\n",
    "<h4>This is how we read the table. </h4>"
   ]
  },
  {
   "cell_type": "markdown",
   "metadata": {},
   "source": [
    "![title](pivot-table-min-syntax.png)"
   ]
  },
  {
   "cell_type": "markdown",
   "metadata": {},
   "source": [
    "<h3> Below is an example with all four arguments of the <tt>.pivot()</tt> function.</h3>"
   ]
  },
  {
   "cell_type": "code",
   "execution_count": null,
   "metadata": {},
   "outputs": [],
   "source": [
    "survey.pivot('Sleep position', 'Handedness', values='Extroversion', collect=np.average)"
   ]
  },
  {
   "cell_type": "markdown",
   "metadata": {},
   "source": [
    "<h3>The way we read the table above</h3>\n",
    "\n",
    "![title](pivot-table-full-syntax.png)"
   ]
  },
  {
   "cell_type": "markdown",
   "metadata": {},
   "source": [
    "<h1> Aggregating Numerical Variables </h1>\n",
    "\n",
    "<h2> Summarize a Group by More Than a Mere Head Count</h2>"
   ]
  },
  {
   "cell_type": "code",
   "execution_count": null,
   "metadata": {
    "scrolled": true
   },
   "outputs": [],
   "source": [
    "survey.group('Handedness', collect=np.average)"
   ]
  },
  {
   "cell_type": "markdown",
   "metadata": {},
   "source": [
    "<h3> Let's remove the extraneous columns that clutter the table:</h3>"
   ]
  },
  {
   "cell_type": "code",
   "execution_count": null,
   "metadata": {
    "scrolled": true
   },
   "outputs": [],
   "source": [
    "survey.drop('Year','Pant leg','Sleep position').group('Handedness', collect=np.average)"
   ]
  },
  {
   "cell_type": "code",
   "execution_count": null,
   "metadata": {
    "scrolled": true
   },
   "outputs": [],
   "source": [
    "survey.group('Sleep position', collect=np.average)"
   ]
  },
  {
   "cell_type": "markdown",
   "metadata": {},
   "source": [
    "<h3> Let's remove the extraneous columns that clutter the table:</h3>"
   ]
  },
  {
   "cell_type": "code",
   "execution_count": null,
   "metadata": {
    "scrolled": true
   },
   "outputs": [],
   "source": [
    "survey.drop('Year','Handedness','Pant leg').group('Sleep position', collect=np.average)"
   ]
  },
  {
   "cell_type": "markdown",
   "metadata": {},
   "source": [
    "<h3> Q. Do people who sleep on their backs tend to get more sleep than those who sleep on their right side? </h3>"
   ]
  },
  {
   "cell_type": "code",
   "execution_count": null,
   "metadata": {},
   "outputs": [],
   "source": [
    "survey.drop('Year','Handedness','Pant leg').group('Sleep position', collect=np.average).select(0,3).plot('Sleep position')\n",
    "#Uncomment the line below to rescale the plot and see the macro picture\n",
    "#plots.ylim(min_sleep, max_sleep);  # Optional for Data 8"
   ]
  },
  {
   "cell_type": "markdown",
   "metadata": {},
   "source": [
    "<h3> Let's combine 'Handedness' and 'Sleep position' </h3>"
   ]
  },
  {
   "cell_type": "code",
   "execution_count": null,
   "metadata": {
    "scrolled": true
   },
   "outputs": [],
   "source": [
    "t = survey.select('Handedness', 'Sleep position', 'Hours of sleep')\n",
    "t.group(['Handedness','Sleep position'], collect=np.average).show()"
   ]
  },
  {
   "cell_type": "markdown",
   "metadata": {},
   "source": [
    "<h3> Q. On average, how many hours of sleep do folks who are left-handed AND sleep on their left sides get?</h3>\n",
    "\n",
    "<h3> How does that compare to the average number of hours of sleep that folks who are left-hand AND sleep on their right sides?</h3>"
   ]
  },
  {
   "cell_type": "markdown",
   "metadata": {},
   "source": [
    "<h2>Aggregation on Pivot Tables</h2>"
   ]
  },
  {
   "cell_type": "markdown",
   "metadata": {},
   "source": [
    "<h3>Instead of looking at the combinations 'Sleep position' and 'Handedness' as rows (like in the table above), let's put them into a grid.</h3>"
   ]
  },
  {
   "cell_type": "code",
   "execution_count": null,
   "metadata": {
    "scrolled": true
   },
   "outputs": [],
   "source": [
    "survey.pivot('Sleep position', 'Handedness', values='Hours of sleep', collect=np.average)"
   ]
  },
  {
   "cell_type": "markdown",
   "metadata": {},
   "source": [
    "<h3>IMPORTANT: If I specify one of the optional arguments, we must specify both.</h3>\n",
    "\n",
    "<h3>For example, if we omit the <tt>collect</tt> argument, we get an error. </h3>"
   ]
  },
  {
   "cell_type": "code",
   "execution_count": null,
   "metadata": {
    "scrolled": true,
    "tags": [
     "raises-exception"
    ]
   },
   "outputs": [],
   "source": [
    "# Here, pivot doesn't know how to combine all the hours of sleep\n",
    "# for each subgroup of students\n",
    "survey.pivot('Sleep position', 'Handedness', values='Hours of sleep')"
   ]
  },
  {
   "cell_type": "markdown",
   "metadata": {},
   "source": [
    "<h1> Challenge Question </h1>\n",
    "\n",
    "SLIDE: Challenging Question"
   ]
  },
  {
   "cell_type": "code",
   "execution_count": null,
   "metadata": {},
   "outputs": [],
   "source": [
    "sky = Table.read_table('skyscrapers_v2.csv')\n",
    "sky = (sky.with_column('age', 2020 - sky.column('completed'))\n",
    "          .drop('completed'))\n",
    "sky.show(3)"
   ]
  },
  {
   "cell_type": "code",
   "execution_count": null,
   "metadata": {},
   "outputs": [],
   "source": [
    "# 1. For each city, what’s the tallest building for each material?\n",
    "\n",
    "\n",
    "\n",
    "\n",
    "\n",
    "\n",
    "\n",
    "\n"
   ]
  },
  {
   "cell_type": "code",
   "execution_count": null,
   "metadata": {},
   "outputs": [],
   "source": [
    "# 2. For each city, what’s the height difference between the tallest \n",
    "#    steel building and the tallest concrete building?\n",
    "\n",
    "\n",
    "\n",
    "\n",
    "\n",
    "\n",
    "\n",
    "\n",
    "\n",
    "\n"
   ]
  },
  {
   "cell_type": "markdown",
   "metadata": {},
   "source": [
    "Don't read ahead until you try the challenge questions yourself first!"
   ]
  },
  {
   "cell_type": "code",
   "execution_count": null,
   "metadata": {
    "scrolled": false
   },
   "outputs": [],
   "source": [
    "sky.select('material', 'city', 'height').group(['city', 'material'], collect=max)"
   ]
  },
  {
   "cell_type": "code",
   "execution_count": null,
   "metadata": {},
   "outputs": [],
   "source": [
    "sky_p = sky.pivot('material', 'city', values='height', collect=max)\n",
    "sky_p.show()"
   ]
  },
  {
   "cell_type": "code",
   "execution_count": null,
   "metadata": {},
   "outputs": [],
   "source": [
    "sky_p = sky_p.with_column(\n",
    "    'difference', \n",
    "    abs(sky_p.column('steel') - sky_p.column('concrete'))\n",
    ")\n",
    "sky_p"
   ]
  },
  {
   "cell_type": "code",
   "execution_count": null,
   "metadata": {},
   "outputs": [],
   "source": [
    "sky_p.sort('difference', True)"
   ]
  },
  {
   "cell_type": "markdown",
   "metadata": {},
   "source": [
    "### Take-home question: try it here!"
   ]
  },
  {
   "cell_type": "code",
   "execution_count": null,
   "metadata": {},
   "outputs": [],
   "source": [
    "# Generate a table of the names of the oldest buildings for each \n",
    "# material for each city:\n",
    "\n"
   ]
  }
 ],
 "metadata": {
  "kernelspec": {
   "display_name": "Python 3",
   "language": "python",
   "name": "python3"
  },
  "language_info": {
   "codemirror_mode": {
    "name": "ipython",
    "version": 3
   },
   "file_extension": ".py",
   "mimetype": "text/x-python",
   "name": "python",
   "nbconvert_exporter": "python",
   "pygments_lexer": "ipython3",
   "version": "3.7.3"
  }
 },
 "nbformat": 4,
 "nbformat_minor": 2
}
