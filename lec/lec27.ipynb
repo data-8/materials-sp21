{
 "cells": [
  {
   "cell_type": "markdown",
   "metadata": {},
   "source": [
    "<h1> Lecture 27 \n",
    "\n",
    "Data Science 8, Spring 2021 </h1>"
   ]
  },
  {
   "cell_type": "markdown",
   "metadata": {},
   "source": [
    "<h3>\n",
    "<b>\n",
    "<ul>\n",
    "<li>The Normal Distribution</li><br>\n",
    "<li>The Central Limit Theorem (CLT)</li><br>\n",
    "<li>Sample Means</li>\n",
    "</ul>\n",
    "</b>\n",
    "</h3>"
   ]
  },
  {
   "cell_type": "code",
   "execution_count": null,
   "metadata": {},
   "outputs": [],
   "source": [
    "from datascience import *\n",
    "import numpy as np\n",
    "import warnings\n",
    "warnings.filterwarnings(\"ignore\")\n",
    "\n",
    "%matplotlib inline\n",
    "import matplotlib.pyplot as plots\n",
    "plots.style.use('fivethirtyeight')\n",
    "plots.rcParams[\"patch.force_edgecolor\"] = True\n",
    "\n",
    "#The following allows porting images into a Markdown window\n",
    "#Syntax: ![title](image_name.png)\n",
    "from IPython.display import Image"
   ]
  },
  {
   "cell_type": "markdown",
   "metadata": {
    "collapsed": true
   },
   "source": [
    "<h2> Central Limit Theorem </h2>"
   ]
  },
  {
   "cell_type": "code",
   "execution_count": null,
   "metadata": {
    "scrolled": true
   },
   "outputs": [],
   "source": [
    "united = Table.read_table('united.csv')\n",
    "united_bins = np.arange(-20, 301, 10)\n",
    "united"
   ]
  },
  {
   "cell_type": "code",
   "execution_count": null,
   "metadata": {
    "scrolled": true
   },
   "outputs": [],
   "source": [
    "united.hist('Delay', bins=united_bins)"
   ]
  },
  {
   "cell_type": "markdown",
   "metadata": {},
   "source": [
    "<h4>Compute the Median, Mean, and Standard Deviation of the Delays</h4>"
   ]
  },
  {
   "cell_type": "code",
   "execution_count": null,
   "metadata": {
    "scrolled": true
   },
   "outputs": [],
   "source": [
    "delays = united.column('Delay')\n",
    "delay_median = percentile(50, delays)\n",
    "delay_mean = np.mean(delays)\n",
    "delay_sd = np.std(delays)\n",
    "print('Median Delay:', np.round(delay_median,2))\n",
    "print('Mean Delay:', np.round(delay_mean,2))\n",
    "print('Delay Standard Deviation:', np.round(delay_sd,2))"
   ]
  },
  {
   "cell_type": "markdown",
   "metadata": {},
   "source": [
    "<h4><u>Question:</u> Why is the Mean greater than the Median? </h4>"
   ]
  },
  {
   "cell_type": "markdown",
   "metadata": {},
   "source": [
    "<h4>\n",
    "Assume that we don't have practical access to the complete data. Accordingly, we'll only sample the data. In particular, we'll <br>\n",
    "<ul>\n",
    "    <li> write code to generate a sample (with replacement) of flights; </li><br>\n",
    "    <li> compute the mean delay in the sample&mdash;called the <i>Sample Mean of the Delay; and </li><br><br>\n",
    "    <li> generate a large number of such samples, from which we draw inferences about the true mean delay.</li><br>\n",
    "</ul>\n",
    "The Sample Mean is an estimate of the population mean (i.e., true mean flight delay of all flights).\n",
    "</h4>"
   ]
  },
  {
   "cell_type": "markdown",
   "metadata": {},
   "source": [
    "<h3>Generate a Single Sample Mean:</h3>"
   ]
  },
  {
   "cell_type": "code",
   "execution_count": null,
   "metadata": {},
   "outputs": [],
   "source": [
    "def one_sample_mean(sample_size):\n",
    "    \"\"\" \n",
    "    Takes a sample from the population of flights \n",
    "    and computes its mean\n",
    "    \"\"\"\n",
    "    # Recall that the \"sample\" method without an \n",
    "    # argument performs the sampling with replacement\n",
    "    sampled_flights = united.sample(sample_size)\n",
    "    return np.mean(sampled_flights.column('Delay'))"
   ]
  },
  {
   "cell_type": "markdown",
   "metadata": {},
   "source": [
    "<h4>Run the function <tt>one_sample_mean</tt> several times:</h4>"
   ]
  },
  {
   "cell_type": "code",
   "execution_count": null,
   "metadata": {},
   "outputs": [],
   "source": [
    "one_sample_mean(400)"
   ]
  },
  {
   "cell_type": "markdown",
   "metadata": {},
   "source": [
    "<h3>Question: How many possible random samples are there?</h3>\n",
    "\n",
    "<h4>In how many possible ways can we draw a sample of size <tt>sample_size=100</tt> from the data set?\n",
    "</h4>"
   ]
  },
  {
   "cell_type": "markdown",
   "metadata": {},
   "source": [
    "<h5>Total number of flights in our data set (total population size):</h5>"
   ]
  },
  {
   "cell_type": "code",
   "execution_count": null,
   "metadata": {},
   "outputs": [],
   "source": [
    "united.num_rows"
   ]
  },
  {
   "cell_type": "markdown",
   "metadata": {},
   "source": [
    "<h5>For each flight we draw, we have 100 possibilities (recall that we sample with replacement):</h5>"
   ]
  },
  {
   "cell_type": "code",
   "execution_count": null,
   "metadata": {
    "scrolled": true
   },
   "outputs": [],
   "source": [
    "# How many possible sample means are there?\n",
    "united.num_rows ** 100"
   ]
  },
  {
   "cell_type": "markdown",
   "metadata": {},
   "source": [
    "<h4>How many random samples can we get of size <tt>sample_size=400</tt>?</h4>"
   ]
  },
  {
   "cell_type": "code",
   "execution_count": null,
   "metadata": {
    "scrolled": true
   },
   "outputs": [],
   "source": [
    "# How many possible sample means are there?\n",
    "united.num_rows ** 400"
   ]
  },
  {
   "cell_type": "markdown",
   "metadata": {},
   "source": []
  },
  {
   "cell_type": "markdown",
   "metadata": {},
   "source": [
    "Far too many samples to enumerate them all!  So while there *is* a well-defined distribution given by all possible sample means from all samples, it is too hard to compute it exactly.  Instead, we approximate this distribution by drawing 10,000 samples from it (which is much smaller than the ridiculous number above!).  We then draw the histogram of the sample means of those 10,000 samples."
   ]
  },
  {
   "cell_type": "markdown",
   "metadata": {},
   "source": [
    "<h4>In particular, to understand the variability of the Sample Mean, let's<br>\n",
    "<ul>\n",
    "    <li>run a large number (<tt>num_simulations</tt>) of trials&mdash;that is, take a large number of samples of identical size (e.g., <tt>sample_size=400)</tt>;</li><br>\n",
    "    <li>compute the mean of each sample (called the \"Sample Mean\"); and</li><br> \n",
    "    <li>observe the distribution of these sample means.</li>\n",
    "</h4>"
   ]
  },
  {
   "cell_type": "markdown",
   "metadata": {},
   "source": [
    "<h3>Run a Large Number of Trials&mdash;that is, generate a large number of samples:</h3>"
   ]
  },
  {
   "cell_type": "code",
   "execution_count": null,
   "metadata": {},
   "outputs": [],
   "source": [
    "def many_sample_means(sample_size,num_simulations):\n",
    "    \"\"\"Approximate the distribution of the sample mean\"\"\"\n",
    "    means = make_array()\n",
    "    for i in np.arange(num_simulations):\n",
    "        mean = one_sample_mean(sample_size)\n",
    "        means = np.append(means, mean)\n",
    "    return means"
   ]
  },
  {
   "cell_type": "code",
   "execution_count": null,
   "metadata": {},
   "outputs": [],
   "source": [
    "sample_means_100_10000 = many_sample_means(100,10000)"
   ]
  },
  {
   "cell_type": "code",
   "execution_count": null,
   "metadata": {
    "scrolled": true
   },
   "outputs": [],
   "source": [
    "sample_means_100_10000"
   ]
  },
  {
   "cell_type": "code",
   "execution_count": null,
   "metadata": {},
   "outputs": [],
   "source": [
    "len(sample_means_100_10000)"
   ]
  },
  {
   "cell_type": "code",
   "execution_count": null,
   "metadata": {
    "scrolled": false
   },
   "outputs": [],
   "source": [
    "sample_means_100_10000_table = Table().with_column(\n",
    "    'Mean of 100 flight delays', sample_means_100_10000).hist(bins=20)\n",
    "\n",
    "print('Population Mean:', np.round(delay_mean,2))\n",
    "print('Sample Mean:', np.round(np.mean(sample_means_100_10000),2))"
   ]
  },
  {
   "cell_type": "markdown",
   "metadata": {},
   "source": [
    "<h3>Now let's look at the distribution's dependence on sample size.</h3>\n",
    "    \n",
    "<h4>What if each sample population contains 400 flights?</h4>"
   ]
  },
  {
   "cell_type": "code",
   "execution_count": null,
   "metadata": {
    "scrolled": false
   },
   "outputs": [],
   "source": [
    "sample_means_400_10000 = many_sample_means(400,10000)\n",
    "sample_means_400_10000_table = Table().with_column(\n",
    "    'Mean of 400 flight delays', sample_means_400_10000).hist(bins=20)\n",
    "\n",
    "print('Population Average:', np.round(delay_mean,2))\n",
    "print('Sample Mean:', np.round(np.mean(sample_means_400_10000),2))"
   ]
  },
  {
   "cell_type": "markdown",
   "metadata": {},
   "source": [
    "SLIDE: Distribution of the Sample Mean"
   ]
  },
  {
   "cell_type": "markdown",
   "metadata": {},
   "source": [
    "<h4>Now do the same with a sample size of 900 flights.</h4>"
   ]
  },
  {
   "cell_type": "code",
   "execution_count": null,
   "metadata": {
    "scrolled": false
   },
   "outputs": [],
   "source": [
    "sample_means_900_10000 = many_sample_means(900,10000)\n",
    "sample_means_900_10000_table = Table().with_column(\n",
    "    'Mean of 400 flight delays', sample_means_900_10000).hist(bins=20)\n",
    "\n",
    "print('Population Average:', np.round(delay_mean,2))\n",
    "print('Sample Mean:', np.round(np.mean(sample_means_900_10000),2))"
   ]
  },
  {
   "cell_type": "code",
   "execution_count": null,
   "metadata": {
    "scrolled": true
   },
   "outputs": [],
   "source": [
    "sample_means_100_400_900_table = Table().with_columns(\n",
    "    'Mean of 100 flight delays', sample_means_100_10000,\n",
    "    'Mean of 400 flight delays', sample_means_400_10000,\n",
    "    'Mean of 900 flight delays', sample_means_900_10000)\n",
    "sample_means_100_400_900_table"
   ]
  },
  {
   "cell_type": "markdown",
   "metadata": {},
   "source": [
    "<h4>For comparison, superimpose the histograms for sample sizes 100, 400, and 900:</h4>"
   ]
  },
  {
   "cell_type": "code",
   "execution_count": null,
   "metadata": {
    "scrolled": true
   },
   "outputs": [],
   "source": [
    "sample_means_100_400_900_table.hist(bins=20)"
   ]
  },
  {
   "cell_type": "markdown",
   "metadata": {},
   "source": [
    "<h4>How do you interpret the picture above?</h4>   \n",
    "<h5>Think in terms of \"center of mass\" and spread.</h5>\n",
    "<h4>What does it tell you about the effect of increasing the sample size?\n",
    "</h4>"
   ]
  },
  {
   "cell_type": "markdown",
   "metadata": {},
   "source": [
    "SLIDE: Specifying the Distribution"
   ]
  },
  {
   "cell_type": "markdown",
   "metadata": {},
   "source": [
    "<h3>Quantifying the effect of sample size on spread:</h3>"
   ]
  },
  {
   "cell_type": "code",
   "execution_count": null,
   "metadata": {
    "scrolled": true
   },
   "outputs": [],
   "source": [
    "np.std(sample_means_100_10000)/np.std(sample_means_400_10000)"
   ]
  },
  {
   "cell_type": "code",
   "execution_count": null,
   "metadata": {
    "scrolled": false
   },
   "outputs": [],
   "source": [
    "np.sqrt(400/100)"
   ]
  },
  {
   "cell_type": "markdown",
   "metadata": {},
   "source": [
    "<h5>What about samples sizes of 450 and 900?</h5>"
   ]
  },
  {
   "cell_type": "code",
   "execution_count": null,
   "metadata": {},
   "outputs": [],
   "source": [
    "sample_means_450_10000 = many_sample_means(450,10000)\n",
    "np.std(sample_means_450_10000)/np.std(sample_means_900_10000)"
   ]
  },
  {
   "cell_type": "code",
   "execution_count": null,
   "metadata": {},
   "outputs": [],
   "source": [
    "np.sqrt(900/450)"
   ]
  },
  {
   "cell_type": "markdown",
   "metadata": {},
   "source": [
    "<h5>What about samples sizes of 100 and 900?</h5>"
   ]
  },
  {
   "cell_type": "code",
   "execution_count": null,
   "metadata": {},
   "outputs": [],
   "source": [
    "np.std(sample_means_100_10000)/np.std(sample_means_900_10000)"
   ]
  },
  {
   "cell_type": "code",
   "execution_count": null,
   "metadata": {},
   "outputs": [],
   "source": [
    "np.sqrt(900/100)"
   ]
  },
  {
   "cell_type": "markdown",
   "metadata": {},
   "source": [
    "<h4>Consider sample sizes $m$ and $n$, where $n>m$.<br><br>\n",
    "    Then the standard deviation of the sample mean of <tt>sample_size</tt>$=n$ is a factor $\\sqrt{\\displaystyle \\frac{n}{m}}$ <u>less</u> than the standard deviation of <tt>sample_size</tt>$=m$</h4>"
   ]
  },
  {
   "cell_type": "markdown",
   "metadata": {},
   "source": [
    "<h3>One-Stop Code Cell</h3>"
   ]
  },
  {
   "cell_type": "code",
   "execution_count": null,
   "metadata": {},
   "outputs": [],
   "source": [
    "\"\"\"Empirical distribution of random sample means\"\"\"\n",
    "\n",
    "def plot_and_summarize_sample_means(sample_size,num_simulations):\n",
    "    sample_means = many_sample_means(sample_size,num_simulations)\n",
    "    sample_means_table = Table().with_column('Sample Means', sample_means)\n",
    "    \n",
    "    # Print some information about the distribution of the sample means\n",
    "    print(\"Sample size: \", sample_size)\n",
    "    print(\"Population mean:\", delay_mean)\n",
    "    print(\"Average of sample means: \", np.mean(sample_means))\n",
    "    print(\"Population SD:\", delay_sd)\n",
    "    print(\"SD of sample means:\", np.std(sample_means))\n",
    "\n",
    "    # Plot a histogram of the sample means\n",
    "    sample_means_table.hist(bins=20)\n",
    "    plots.xlabel('Sample Means')\n",
    "    plots.title('Sample Size ' + str(sample_size))"
   ]
  },
  {
   "cell_type": "code",
   "execution_count": null,
   "metadata": {
    "scrolled": false
   },
   "outputs": [],
   "source": [
    "plot_and_summarize_sample_means(100,10000)"
   ]
  },
  {
   "cell_type": "markdown",
   "metadata": {},
   "source": [
    "<h4>If I take a sample of size <tt>sample_size=1</tt>, the standard deviation of my sample is the Population SD: 39.48.</h4> "
   ]
  },
  {
   "cell_type": "markdown",
   "metadata": {},
   "source": [
    "<h4>If I take a sample of size <tt>sample_size=100</tt>, the standard deviation of my sample is reduced by a factor of:</h4> "
   ]
  },
  {
   "cell_type": "code",
   "execution_count": null,
   "metadata": {},
   "outputs": [],
   "source": [
    "39.48 / 3.932"
   ]
  },
  {
   "cell_type": "markdown",
   "metadata": {},
   "source": [
    "<h4>Note that:</h4>"
   ]
  },
  {
   "cell_type": "code",
   "execution_count": null,
   "metadata": {},
   "outputs": [],
   "source": [
    "np.sqrt(100)"
   ]
  },
  {
   "cell_type": "code",
   "execution_count": null,
   "metadata": {},
   "outputs": [],
   "source": [
    "plot_and_summarize_sample_means(400,10000)"
   ]
  },
  {
   "cell_type": "markdown",
   "metadata": {},
   "source": [
    "<h4>If I take a sample of size <tt>sample_size=400</tt>, the standard deviation of my sample is reduced by a factor of:</h4> "
   ]
  },
  {
   "cell_type": "code",
   "execution_count": null,
   "metadata": {},
   "outputs": [],
   "source": [
    "39.48 / 1.973"
   ]
  },
  {
   "cell_type": "markdown",
   "metadata": {},
   "source": [
    "<h4>Note that:</h4>"
   ]
  },
  {
   "cell_type": "code",
   "execution_count": null,
   "metadata": {},
   "outputs": [],
   "source": [
    "np.sqrt(400)"
   ]
  },
  {
   "cell_type": "code",
   "execution_count": null,
   "metadata": {},
   "outputs": [],
   "source": [
    "plot_and_summarize_sample_means(625,10000)"
   ]
  },
  {
   "cell_type": "markdown",
   "metadata": {},
   "source": [
    "<h4>If I take a sample of size <tt>sample_size=625</tt>, the standard deviation of my sample is reduced by a factor of:</h4> "
   ]
  },
  {
   "cell_type": "code",
   "execution_count": null,
   "metadata": {},
   "outputs": [],
   "source": [
    "39.48 / 1.577"
   ]
  },
  {
   "cell_type": "markdown",
   "metadata": {},
   "source": [
    "<h4>Note that:</h4>"
   ]
  },
  {
   "cell_type": "code",
   "execution_count": null,
   "metadata": {},
   "outputs": [],
   "source": [
    "np.sqrt(600)"
   ]
  },
  {
   "cell_type": "markdown",
   "metadata": {},
   "source": [
    "SLIDE: Variability of the Sample Mean"
   ]
  },
  {
   "cell_type": "markdown",
   "metadata": {},
   "source": [
    "<h3>Now let's see the effect of increasing the number of trials&mdash;that is, the number of samples that we take&mdash;for a specified sample size (e.g., <tt>sample_size=400</tt>):</h3>"
   ]
  },
  {
   "cell_type": "markdown",
   "metadata": {},
   "source": [
    "<h4>Sample Size=400<br>\n",
    "Number of Trials=10</h4>"
   ]
  },
  {
   "cell_type": "code",
   "execution_count": null,
   "metadata": {
    "scrolled": true
   },
   "outputs": [],
   "source": [
    "sample_means_400_10 = many_sample_means(400,10)\n",
    "Table().with_column(\n",
    "    'Mean of 400 flight delays', sample_means_400_10).hist(bins=20)\n",
    "\n",
    "print('Population Average:', np.round(delay_mean,2))\n",
    "print('Sample Average:', np.round(np.mean(sample_means_400_10),2))"
   ]
  },
  {
   "cell_type": "markdown",
   "metadata": {},
   "source": [
    "<h4>Sample Size=400<br>\n",
    "Number of Trials=50</h4>"
   ]
  },
  {
   "cell_type": "code",
   "execution_count": null,
   "metadata": {
    "scrolled": true
   },
   "outputs": [],
   "source": [
    "sample_means_400_50 = many_sample_means(400,50)\n",
    "Table().with_column(\n",
    "    'Mean of 400 flight delays', sample_means_400_50).hist(bins=20)\n",
    "\n",
    "print('Population Average:', np.round(delay_mean,2))\n",
    "print('Sample Average:', np.round(np.mean(sample_means_400_50),2))"
   ]
  },
  {
   "cell_type": "markdown",
   "metadata": {},
   "source": [
    "<h4>Sample Size=400<br>\n",
    "Number of Trials=100</h4>"
   ]
  },
  {
   "cell_type": "code",
   "execution_count": null,
   "metadata": {
    "scrolled": true
   },
   "outputs": [],
   "source": [
    "sample_means_400_100 = many_sample_means(400,100)\n",
    "Table().with_column(\n",
    "    'Mean of 400 flight delays', sample_means_400_100).hist(bins=20)\n",
    "\n",
    "print('Population Average:', np.round(delay_mean,2))\n",
    "print('Sample Average:', np.round(np.mean(sample_means_400_100),2))"
   ]
  },
  {
   "cell_type": "markdown",
   "metadata": {},
   "source": [
    "<h4>Sample Size=400<br>\n",
    "Number of Trials=1,000</h4>"
   ]
  },
  {
   "cell_type": "code",
   "execution_count": null,
   "metadata": {
    "scrolled": true
   },
   "outputs": [],
   "source": [
    "sample_means_400_1000 = many_sample_means(400,1000)\n",
    "Table().with_column(\n",
    "    'Mean of 400 flight delays', sample_means_400_1000).hist(bins=20)\n",
    "\n",
    "print('Population Average:', np.round(delay_mean,2))\n",
    "print('Sample Average:', np.round(np.mean(sample_means_400_1000),2))"
   ]
  },
  {
   "cell_type": "markdown",
   "metadata": {},
   "source": [
    "<h4>Sample Size=400<br>\n",
    "Number of Trials=10,000</h4>"
   ]
  },
  {
   "cell_type": "code",
   "execution_count": null,
   "metadata": {
    "scrolled": true
   },
   "outputs": [],
   "source": [
    "sample_means_400_10000 = many_sample_means(400,10000)\n",
    "Table().with_column(\n",
    "    'Mean of 400 flight delays', sample_means_400_10000).hist(bins=20)\n",
    "\n",
    "print('Population Average:', np.round(delay_mean,2))\n",
    "print('Sample Average:', np.round(np.mean(sample_means_400_10000),2))"
   ]
  },
  {
   "cell_type": "markdown",
   "metadata": {},
   "source": [
    "<h4>Sample Size=400<br>\n",
    "Number of Trials=50,000</h4>"
   ]
  },
  {
   "cell_type": "code",
   "execution_count": null,
   "metadata": {
    "scrolled": true
   },
   "outputs": [],
   "source": [
    "sample_means_400_50000 = many_sample_means(400,50000)\n",
    "Table().with_column(\n",
    "    'Mean of 400 flight delays', sample_means_400_50000).hist(bins=20)\n",
    "\n",
    "print('Population Average:', np.round(delay_mean,2))\n",
    "print('Sample Average:', np.round(np.mean(sample_means_400_50000),2))"
   ]
  }
 ],
 "metadata": {
  "anaconda-cloud": {},
  "kernelspec": {
   "display_name": "Python 3",
   "language": "python",
   "name": "python3"
  },
  "language_info": {
   "codemirror_mode": {
    "name": "ipython",
    "version": 3
   },
   "file_extension": ".py",
   "mimetype": "text/x-python",
   "name": "python",
   "nbconvert_exporter": "python",
   "pygments_lexer": "ipython3",
   "version": "3.8.5"
  }
 },
 "nbformat": 4,
 "nbformat_minor": 1
}
