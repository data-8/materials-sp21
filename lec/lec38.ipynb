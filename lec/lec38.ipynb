{
 "cells": [
  {
   "cell_type": "markdown",
   "metadata": {},
   "source": [
    "<h1> Lecture 38 \n",
    "\n",
    "Data Science 8, Spring 2021 </h1>"
   ]
  },
  {
   "cell_type": "markdown",
   "metadata": {},
   "source": [
    "<h3>\n",
    "<b>\n",
    "<ul>\n",
    "<li>Case Study: Minnesota Coronary Experiment (1968-1973)</li><br>\n",
    "    <li>Ivan Frantz</li><br>\n",
    "</ul>\n",
    "</b>\n",
    "</h3>"
   ]
  },
  {
   "cell_type": "code",
   "execution_count": null,
   "metadata": {},
   "outputs": [],
   "source": [
    "from datascience import *\n",
    "import numpy as np\n",
    "import warnings\n",
    "warnings.filterwarnings(\"ignore\")\n",
    "\n",
    "%matplotlib inline\n",
    "import matplotlib.pyplot as plots\n",
    "plots.style.use('fivethirtyeight')\n",
    "plots.rcParams[\"patch.force_edgecolor\"] = True\n",
    "\n",
    "#The following allows porting images into a Markdown window\n",
    "#Syntax: ![title](image_name.png)\n",
    "from IPython.display import Image"
   ]
  },
  {
   "cell_type": "markdown",
   "metadata": {},
   "source": [
    "## Broste Thesis Data ##"
   ]
  },
  {
   "cell_type": "code",
   "execution_count": null,
   "metadata": {},
   "outputs": [],
   "source": [
    "summary = Table(['Age', 'Condition', 'Total', 'Deaths', 'CHD Deaths']).with_rows([\n",
    "    ['0-34',  'Diet',    1367, 3, 0],\n",
    "    ['35-44', 'Diet',    728, 3, 0],\n",
    "    ['45-54', 'Diet',    767, 14, 4],\n",
    "    ['55-64', 'Diet',    870, 35, 7],\n",
    "    ['65+',   'Diet',    953, 190, 42],\n",
    "    ['0-34',  'Control', 1337, 7, 1],\n",
    "    ['35-44', 'Control', 731, 4, 1],\n",
    "    ['45-54', 'Control', 816, 16, 4],\n",
    "    ['55-64', 'Control', 896, 33, 12],\n",
    "    ['65+',   'Control', 958, 162, 34],   \n",
    "])\n",
    "summary.drop('CHD Deaths')"
   ]
  },
  {
   "cell_type": "markdown",
   "metadata": {},
   "source": [
    "<h4>Reconstruct Ivan Frantz's Full Table</h4>\n",
    "\n",
    "<h5>Example:<br> \n",
    "    <ul>\n",
    "        <li>Create 1,367 rows</li><br>\n",
    "        <li>Assign age 0-34</li><br>\n",
    "        <li>Tag 3 as Died.</li>\n",
    "    </ul>"
   ]
  },
  {
   "cell_type": "code",
   "execution_count": null,
   "metadata": {},
   "outputs": [],
   "source": [
    "subjects = Table(['Age', 'Condition', 'Participated', 'Died'])\n",
    "for row in summary.rows:\n",
    "    i = np.arange(0, row.item('Total'))\n",
    "    t = Table().with_columns('Died', i < row.item('Deaths'))\n",
    "    t.append_column('Age', row.item('Age'))\n",
    "    t.append_column('Condition', row.item('Condition'))\n",
    "    t.append_column('Participated', True)\n",
    "    subjects.append(t)\n",
    "subjects"
   ]
  },
  {
   "cell_type": "markdown",
   "metadata": {},
   "source": [
    "<h4>Rearrange the Table to Show by Age Group and Condition (Control/Treatment)</h4>"
   ]
  },
  {
   "cell_type": "code",
   "execution_count": null,
   "metadata": {
    "scrolled": true
   },
   "outputs": [],
   "source": [
    "subjects.group(['Age', 'Condition'], sum)"
   ]
  },
  {
   "cell_type": "markdown",
   "metadata": {},
   "source": [
    "<h4>Pay attention to the 65+ age group in the table above.</h4>\n",
    "\n",
    "<h4>Could this have been by random chance? Or was it due to diet?</h4>"
   ]
  },
  {
   "cell_type": "markdown",
   "metadata": {},
   "source": [
    "<h3>Hypothesis Test</h3>\n",
    "<h4>\n",
    "    <ul>Null Hypothesis $H_0$: There's no significant difference in mortality between the two diets&mdash;that is, the observed differences are due to random chance.</li><br><br>\n",
    "    <li>Alternative Hypothesis $H_1$: Diet matters. There's a statistically significant difference in mortality between the two diets.</li>\n",
    "    </ul>\n",
    "    \n",
    "To test the difference between two proportions, we use A/B Testing.<br>\n",
    "\n",
    "<br>The alternative hypothesis hypothesis determines whether we use a <u>simple difference</u> in mortality rates or an <u>absolute difference</u>.  Which one do we use here?\n",
    "</h4>"
   ]
  },
  {
   "cell_type": "markdown",
   "metadata": {},
   "source": [
    "<h4>How the table looks if we group by Condition only</h4>"
   ]
  },
  {
   "cell_type": "code",
   "execution_count": null,
   "metadata": {
    "scrolled": true
   },
   "outputs": [],
   "source": [
    "subjects.group('Condition', sum)"
   ]
  },
  {
   "cell_type": "markdown",
   "metadata": {},
   "source": [
    "<h4>Diet group seems to have about a 10% larger mortality rate. But is this significant, or is it due to randomness?</h4>"
   ]
  },
  {
   "cell_type": "markdown",
   "metadata": {},
   "source": [
    "<h4>Drop the 'Age sum' column</h4>"
   ]
  },
  {
   "cell_type": "code",
   "execution_count": null,
   "metadata": {},
   "outputs": [],
   "source": [
    "subjects.drop('Age').group('Condition', sum)"
   ]
  },
  {
   "cell_type": "code",
   "execution_count": null,
   "metadata": {},
   "outputs": [],
   "source": [
    "# hazard_rate gives the proportion of people who died\n",
    "def hazard_rate(counts): #counts is a row of the table\n",
    "    return counts.item('Died sum') / counts.item('Participated sum')\n",
    "\n",
    "def rate_difference(t):  #t is the table of ALL individuals\n",
    "    #the following line creates the aggregate table like the one above\n",
    "    counts = t.drop('Age').group('Condition', sum) \n",
    "    return abs(hazard_rate(counts.row(1)) - hazard_rate(counts.row(0)))"
   ]
  },
  {
   "cell_type": "markdown",
   "metadata": {},
   "source": [
    "Aggregate Rate Difference Across All Age Groups"
   ]
  },
  {
   "cell_type": "code",
   "execution_count": null,
   "metadata": {},
   "outputs": [],
   "source": [
    "rate_difference(subjects)"
   ]
  },
  {
   "cell_type": "markdown",
   "metadata": {},
   "source": [
    "Rate Difference for Ages 0-34"
   ]
  },
  {
   "cell_type": "code",
   "execution_count": null,
   "metadata": {},
   "outputs": [],
   "source": [
    "rate_difference(subjects.where('Age', '0-34'))"
   ]
  },
  {
   "cell_type": "markdown",
   "metadata": {},
   "source": [
    "Rate Difference for Ages 35-44"
   ]
  },
  {
   "cell_type": "code",
   "execution_count": null,
   "metadata": {},
   "outputs": [],
   "source": [
    "rate_difference(subjects.where('Age', '35-44'))"
   ]
  },
  {
   "cell_type": "markdown",
   "metadata": {},
   "source": [
    "Rate Difference for Ages 45-54"
   ]
  },
  {
   "cell_type": "code",
   "execution_count": null,
   "metadata": {},
   "outputs": [],
   "source": [
    "rate_difference(subjects.where('Age', '45-54'))"
   ]
  },
  {
   "cell_type": "markdown",
   "metadata": {},
   "source": [
    "Rate Difference for Ages 55-64"
   ]
  },
  {
   "cell_type": "code",
   "execution_count": null,
   "metadata": {},
   "outputs": [],
   "source": [
    "rate_difference(subjects.where('Age', '55-64'))"
   ]
  },
  {
   "cell_type": "markdown",
   "metadata": {},
   "source": [
    "Rate Difference for Ages 65+"
   ]
  },
  {
   "cell_type": "code",
   "execution_count": null,
   "metadata": {},
   "outputs": [],
   "source": [
    "rate_difference(subjects.where('Age', '65+'))"
   ]
  },
  {
   "cell_type": "markdown",
   "metadata": {},
   "source": [
    "<h4>To perform our A/B test, we must shuffle either the Died or Condition column.</h4>"
   ]
  },
  {
   "cell_type": "code",
   "execution_count": null,
   "metadata": {},
   "outputs": [],
   "source": [
    "def test(t):\n",
    "    #The line below calculates the rate difference across ALL age groups\n",
    "    observed = rate_difference(t) #this is the observed test statistic\n",
    "    #this many different shufflings\n",
    "    repetitions = 200  \n",
    "\n",
    "    stats = make_array()\n",
    "    for i in np.arange(repetitions):\n",
    "        simulated_results = t.select('Died').sample(with_replacement=False).column('Died')\n",
    "        simulated_outcomes = t.with_column('Died', simulated_results)\n",
    "        simulated_stat = rate_difference(simulated_outcomes)\n",
    "        stats = np.append(stats, simulated_stat)\n",
    "\n",
    "    # Find the empirical P-value:\n",
    "    #Computes the proportion of simulations that resulted in mortality\n",
    "    #at least as extreme as our observation.\n",
    "    p = np.count_nonzero(stats >= observed) / repetitions\n",
    "    print('Observed absolute difference in hazard rates:', np.round(observed,6))\n",
    "    print('P-value:', p)"
   ]
  },
  {
   "cell_type": "code",
   "execution_count": null,
   "metadata": {
    "scrolled": true
   },
   "outputs": [],
   "source": [
    "test(subjects)"
   ]
  },
  {
   "cell_type": "markdown",
   "metadata": {},
   "source": [
    "<h4>Question: To reject the Null (and therefore claim that diet mattered in a statistically significant way), do we expect a small $p$-value (e.g., $p\\leq 0.05$) or something larger?</h4>"
   ]
  },
  {
   "cell_type": "markdown",
   "metadata": {},
   "source": [
    "SLIDE: Conventions About Inconsistency"
   ]
  },
  {
   "cell_type": "code",
   "execution_count": null,
   "metadata": {
    "scrolled": true
   },
   "outputs": [],
   "source": [
    "subjects.group('Age').column('Age')"
   ]
  },
  {
   "cell_type": "markdown",
   "metadata": {},
   "source": [
    "<h4>$p$-values by age group</h4>"
   ]
  },
  {
   "cell_type": "code",
   "execution_count": null,
   "metadata": {},
   "outputs": [],
   "source": [
    "for age in subjects.group('Age').column('Age'):\n",
    "    print('Ages', age)\n",
    "    test(subjects.where('Age', age))"
   ]
  }
 ],
 "metadata": {
  "kernelspec": {
   "display_name": "Python 3",
   "language": "python",
   "name": "python3"
  },
  "language_info": {
   "codemirror_mode": {
    "name": "ipython",
    "version": 3
   },
   "file_extension": ".py",
   "mimetype": "text/x-python",
   "name": "python",
   "nbconvert_exporter": "python",
   "pygments_lexer": "ipython3",
   "version": "3.8.5"
  }
 },
 "nbformat": 4,
 "nbformat_minor": 2
}
