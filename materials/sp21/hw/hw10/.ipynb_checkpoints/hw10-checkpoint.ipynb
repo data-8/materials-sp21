{
 "cells": [
  {
   "cell_type": "code",
   "execution_count": null,
   "id": "alternative-coaching",
   "metadata": {
    "deletable": false,
    "editable": false
   },
   "outputs": [],
   "source": [
    "# Initialize OK\n",
    "from client.api.notebook import Notebook\n",
    "ok = Notebook('hw10.ok')"
   ]
  },
  {
   "cell_type": "markdown",
   "id": "blessed-research",
   "metadata": {},
   "source": [
    "# Homework 10: Linear Regression"
   ]
  },
  {
   "cell_type": "markdown",
   "id": "laden-thousand",
   "metadata": {},
   "source": [
    "**Helpful Resource:**\n",
    "- [Python Reference](http://data8.org/sp21/python-reference.html): Cheat sheet of helpful array & table methods used in Data 8!\n",
    "\n",
    "**Reading**: \n",
    "* [Linear Regression](https://www.inferentialthinking.com/chapters/15/2/Regression_Line.html)\n",
    "* [Method of Least Squares](https://www.inferentialthinking.com/chapters/15/3/Method_of_Least_Squares.html)\n",
    "* [Least Squares Regression](https://www.inferentialthinking.com/chapters/15/4/Least_Squares_Regression.html)"
   ]
  },
  {
   "cell_type": "markdown",
   "id": "minor-visitor",
   "metadata": {},
   "source": [
    "Please complete this notebook by filling in the cells provided. Before you begin, execute the following cell to load the provided tests. Each time you start your server, you will need to execute this cell again to load the tests.\n",
    "\n",
    "For all problems that you must write explanations and sentences for, you **must** provide your answer in the designated space. **Moreover, throughout this homework and all future ones, please be sure to not re-assign variables throughout the notebook!** For example, if you use `max_temperature` in your answer to one question, do not reassign it later on. Otherwise, you will fail tests that you thought you were passing previously!\n",
    "\n",
    "**Deadline:**\n",
    "\n",
    "This assignment is due Thursday, April 15 at 11:59 P.M. PDT. You will receive an early submission bonus point if you turn in your final submission by Wednesday, April 14 at 11:59 P.M. PDT. Late work will not be accepted as per the [policies](http://data8.org/sp21/policies.html) page. \n",
    "\n",
    "**Note: This homework has hidden tests on it. That means even though tests may say 100% passed, doesn't mean your final grade will be 100%. We will be running more tests for correctness once everyone turns in the homework.**\n",
    "\n",
    "Directly sharing answers is not okay, but discussing problems with the course staff or with other students is encouraged. Refer to the policies page to learn more about how to learn cooperatively.\n",
    "\n",
    "You should start early so that you have time to get help if you're stuck. Office hours are held Monday-Friday. The schedule appears on [http://data8.org/sp21/office-hours.html](http://data8.org/sp21/office-hours.html)."
   ]
  },
  {
   "cell_type": "code",
   "execution_count": 1,
   "id": "desperate-correction",
   "metadata": {
    "scrolled": true
   },
   "outputs": [],
   "source": [
    "# Don't change this cell; just run it. \n",
    "\n",
    "import numpy as np\n",
    "from datascience import *\n",
    "\n",
    "# These lines do some fancy plotting magic.\",\n",
    "import matplotlib\n",
    "%matplotlib inline\n",
    "import matplotlib.pyplot as plt\n",
    "plt.style.use('fivethirtyeight')\n",
    "import warnings\n",
    "warnings.simplefilter('ignore', FutureWarning)\n",
    "\n",
    "from client.api.notebook import *\n",
    "def new_save_notebook(self):\n",
    "    \"\"\" Saves the current notebook by\n",
    "        injecting JavaScript to save to .ipynb file.\n",
    "    \"\"\"\n",
    "    try:\n",
    "        from IPython.display import display, Javascript\n",
    "    except ImportError:\n",
    "        log.warning(\"Could not import IPython Display Function\")\n",
    "        print(\"Make sure to save your notebook before sending it to OK!\")\n",
    "        return\n",
    "\n",
    "    if self.mode == \"jupyter\":\n",
    "        display(Javascript('IPython.notebook.save_checkpoint();'))\n",
    "        display(Javascript('IPython.notebook.save_notebook();'))\n",
    "    elif self.mode == \"jupyterlab\":\n",
    "        display(Javascript('document.querySelector(\\'[data-command=\"docmanager:save\"]\\').click();'))   \n",
    "\n",
    "    print('Saving notebook...', end=' ')\n",
    "\n",
    "    ipynbs = [path for path in self.assignment.src\n",
    "              if os.path.splitext(path)[1] == '.ipynb']\n",
    "    # Wait for first .ipynb to save\n",
    "    if ipynbs:\n",
    "        if wait_for_save(ipynbs[0]):\n",
    "            print(\"Saved '{}'.\".format(ipynbs[0]))\n",
    "        else:\n",
    "            log.warning(\"Timed out waiting for IPython save\")\n",
    "            print(\"Could not automatically save \\'{}\\'\".format(ipynbs[0]))\n",
    "            print(\"Make sure your notebook\"\n",
    "                  \" is correctly named and saved before submitting to OK!\".format(ipynbs[0]))\n",
    "            return False                \n",
    "    else:\n",
    "        print(\"No valid file sources found\")\n",
    "    return True\n",
    "\n",
    "def wait_for_save(filename, timeout=600):\n",
    "    \"\"\"Waits for FILENAME to update, waiting up to TIMEOUT seconds.\n",
    "    Returns True if a save was detected, and False otherwise.\n",
    "    \"\"\"\n",
    "    modification_time = os.path.getmtime(filename)\n",
    "    start_time = time.time()\n",
    "    while time.time() < start_time + timeout:\n",
    "        if (os.path.getmtime(filename) > modification_time and\n",
    "            os.path.getsize(filename) > 0):\n",
    "            return True\n",
    "        time.sleep(0.2)\n",
    "    return False\n",
    "\n",
    "Notebook.save_notebook = new_save_notebook\n",
    "\n",
    "ok = Notebook('hw10.ok')\n",
    "_ = ok.auth(inline=True)"
   ]
  },
  {
   "cell_type": "markdown",
   "id": "restricted-webmaster",
   "metadata": {},
   "source": [
    "Before continuing the assignment, select \"Save and Checkpoint\" in the File menu and then execute the submit cell below. The result will contain a link that you can use to check that your assignment has been submitted successfully. If you submit more than once before the deadline, we will only grade your final submission. If you mistakenly submit the wrong one, you can head to okpy.org and flag the correct version. There will be another submit cell at the end of the assignment when you finish!"
   ]
  },
  {
   "cell_type": "code",
   "execution_count": 2,
   "id": "devoted-manual",
   "metadata": {},
   "outputs": [],
   "source": [
    "_ = ok.submit()"
   ]
  },
  {
   "cell_type": "markdown",
   "id": "passive-mobile",
   "metadata": {},
   "source": [
    "## 1. Exploring the PTEN Gene with Linear Regression\n"
   ]
  },
  {
   "cell_type": "markdown",
   "id": "reasonable-neighbor",
   "metadata": {},
   "source": [
    "### A Quick Review of Standard Units"
   ]
  },
  {
   "cell_type": "markdown",
   "id": "fifty-kazakhstan",
   "metadata": {
    "deletable": false,
    "editable": false
   },
   "source": [
    "**Question 0**\n",
    "\n",
    "Image A | Image B\n",
    ":-:| :-:\n",
    "![one](normal2.png) | ![two](normal1.png)\n",
    "\n",
    "\n",
    "Two normal distributions, Distribution 1 and Distribution 2, were generated, each with a different mean and standard deviation. Which image above corresponds to the data in regular units? Which image above corresponds to the data in standard units? Explain your thought process in 1-2 sentences. Please format your answer like so:\n",
    "\n",
    "**Image A:** (Regular/Standard) units\n",
    "\n",
    "**Image B:** (Regular/Standard) units\n",
    "\n",
    "**Explanation:** ...\n",
    "\n",
    "<!--\n",
    "BEGIN QUESTION\n",
    "name: q1_0\n",
    "manual: true\n",
    "-->\n",
    "<!-- EXPORT TO PDF -->"
   ]
  },
  {
   "cell_type": "markdown",
   "id": "previous-flight",
   "metadata": {
    "export_pdf": true
   },
   "source": [
    "*Write your answer here, replacing this text.*"
   ]
  },
  {
   "cell_type": "markdown",
   "id": "binary-crawford",
   "metadata": {},
   "source": [
    "### PTEN Linear Regression"
   ]
  },
  {
   "cell_type": "markdown",
   "id": "latter-hostel",
   "metadata": {},
   "source": [
    "This week's homework is about linear regression. The dataset we'll be using is from the Cancer Cell Line Encyclopedia -- you can read more about this database in this [paper](https://www.nature.com/articles/s41586-019-1186-3) and interact with the data yourself at the online portal [here](https://portals.broadinstitute.org/ccle).\n",
    "\n",
    "The specific dataset we'll be taking a look at is expression data for the PTEN gene in around 1000 cell lines. The PTEN gene is a tumor-suppressing gene, and mutations in the PTEN gene are associated with many types of cancer. A cell line is group of cells that are kept alive and replicate indefinitely in culture (grown in petri dishes, for example).\n",
    "\n",
    "Run the following cell to load the `pten` table. The `pten` table has four columns, a column for the specific `Cell Line`, a column for the `Copy Number`, which is how much of the PTEN gene (compared to the reference genome) is found in the DNA of that cell line, `mRNA Expression (Affy)`, and `mRNA Expression (RNAseq)`.\n",
    "\n",
    "*Note:* Since the PTEN gene can appear fewer times than in the reference genome, the `Copy Number` can be negative."
   ]
  },
  {
   "cell_type": "code",
   "execution_count": 3,
   "id": "disabled-castle",
   "metadata": {},
   "outputs": [],
   "source": [
    "# Just run this cell\n",
    "pten = Table().read_table(\"pten.csv\")\n",
    "pten.show(5)"
   ]
  },
  {
   "cell_type": "code",
   "execution_count": 4,
   "id": "signal-burden",
   "metadata": {},
   "outputs": [],
   "source": [
    "# Just run this cell\n",
    "pten.hist(\"Copy Number\", bins = np.arange(-1, 1.5, 0.5))"
   ]
  },
  {
   "cell_type": "markdown",
   "id": "identical-fifty",
   "metadata": {
    "deletable": false,
    "editable": false
   },
   "source": [
    "**Question 1**\n",
    "\n",
    "Looking at the histogram above, we want to check whether or not `Copy Number` is in standard units. For this question, compute the mean and the standard deviation of the values in `Copy Number` and assign these values to `copy_number_mean` and `copy_number_sd` respectively. After you calculate these values, assign `is_su` to either `True` if you think that `Copy Numbers` is in standard units or `False` if you think otherwise.\n",
    "\n",
    "*Hint: What would the mean and SD of an array in standard units be?*\n",
    "\n",
    "<!--\n",
    "BEGIN QUESTION\n",
    "name: q1_1\n",
    "manual: false\n",
    "-->"
   ]
  },
  {
   "cell_type": "code",
   "execution_count": 5,
   "id": "scientific-welcome",
   "metadata": {},
   "outputs": [],
   "source": [
    "copy_number = pten.column(\"Copy Number\")\n",
    "copy_number_mean = ...\n",
    "copy_number_sd = ...\n",
    "is_su = ...\n",
    "print(f\"Mean: {copy_number_mean}, SD: {copy_number_sd}, Is in standard units?: {is_su}\")"
   ]
  },
  {
   "cell_type": "code",
   "execution_count": null,
   "id": "forty-chicago",
   "metadata": {
    "deletable": false,
    "editable": false
   },
   "outputs": [],
   "source": [
    "ok.grade(\"q1_1\");"
   ]
  },
  {
   "cell_type": "markdown",
   "id": "massive-conference",
   "metadata": {
    "deletable": false,
    "editable": false
   },
   "source": [
    "**Question 2**\n",
    "\n",
    "Create the function `standard_units` so that it converts the values in the array `arr` to standard units. We'll then use `standard_units` to create a new table, `pten_su`, that converts all the values in the table `pten` to standard units.\n",
    "\n",
    "<!--\n",
    "BEGIN QUESTION\n",
    "name: q1_2\n",
    "manual: false\n",
    "-->"
   ]
  },
  {
   "cell_type": "code",
   "execution_count": 8,
   "id": "public-photography",
   "metadata": {},
   "outputs": [],
   "source": [
    "def standard_units(arr):\n",
    "    ...\n",
    "\n",
    "# DON'T DELETE OR MODIFY ANY OF THE LINES OF CODE BELOW IN THIS CELL\n",
    "pten_su = Table().with_columns(\"Cell Line\", pten.column(\"Cell Line\"),\n",
    "                               \"Copy Number SU\", standard_units(pten.column(\"Copy Number\")),\n",
    "                               \"mRNA Expression (Affy) SU\", standard_units(pten.column(\"mRNA Expression (Affy)\")),\n",
    "                               \"mRNA Expression (RNAseq) SU\", standard_units(pten.column(\"mRNA Expression (RNAseq)\"))                             \n",
    "                              )\n",
    "pten_su.show(5)"
   ]
  },
  {
   "cell_type": "code",
   "execution_count": null,
   "id": "grateful-wallace",
   "metadata": {
    "deletable": false,
    "editable": false
   },
   "outputs": [],
   "source": [
    "ok.grade(\"q1_2\");"
   ]
  },
  {
   "cell_type": "markdown",
   "id": "cooked-performance",
   "metadata": {},
   "source": [
    "You should always visually inspect your data, before numerically analyzing any relationships in your dataset. Run the following cell in order to look at the relationship between the variables in our dataset."
   ]
  },
  {
   "cell_type": "code",
   "execution_count": 11,
   "id": "continental-jacksonville",
   "metadata": {},
   "outputs": [],
   "source": [
    "# Just run this cell\n",
    "pten_su.scatter(\"Copy Number SU\", \"mRNA Expression (Affy) SU\")\n",
    "pten_su.scatter(\"Copy Number SU\", \"mRNA Expression (RNAseq) SU\")\n",
    "pten_su.scatter(\"mRNA Expression (Affy) SU\", \"mRNA Expression (RNAseq) SU\")"
   ]
  },
  {
   "cell_type": "markdown",
   "id": "collective-alloy",
   "metadata": {
    "deletable": false,
    "editable": false
   },
   "source": [
    "**Question 3**\n",
    "\n",
    "Which of the following relationships do you think has the highest correlation (i.e. highest absolute value of `r`)? Assign `highest_correlation` to the number corresponding to the relationship you think has the highest correlation.\n",
    "\n",
    "1. mRNA Expression (Affy) vs. mRNA Expression (RNAseq)\n",
    "2. Copy Number vs. mRNA Expression (RNAseq)\n",
    "3. Copy Number vs. mRNA Expression (Affy)\n",
    "\n",
    "<!--\n",
    "BEGIN QUESTION\n",
    "name: q1_3\n",
    "manual: false\n",
    "-->"
   ]
  },
  {
   "cell_type": "code",
   "execution_count": 12,
   "id": "indonesian-perfume",
   "metadata": {},
   "outputs": [],
   "source": [
    "highest_correlation = ..."
   ]
  },
  {
   "cell_type": "code",
   "execution_count": null,
   "id": "regional-treat",
   "metadata": {
    "deletable": false,
    "editable": false
   },
   "outputs": [],
   "source": [
    "ok.grade(\"q1_3\");"
   ]
  },
  {
   "cell_type": "markdown",
   "id": "stylish-footage",
   "metadata": {
    "deletable": false,
    "editable": false
   },
   "source": [
    "**Question 4**\n",
    "\n",
    "Now, using the `standard_units` function, define the function `correlation` which computes the correlation between `arr1` and `arr2`.\n",
    "\n",
    "<!--\n",
    "BEGIN QUESTION\n",
    "name: q1_4\n",
    "manual: false\n",
    "-->"
   ]
  },
  {
   "cell_type": "code",
   "execution_count": 15,
   "id": "experienced-procedure",
   "metadata": {},
   "outputs": [],
   "source": [
    "def correlation(arr1, arr2):\n",
    "    '''arr1 and arr2 will always be the same length.'''\n",
    "    ...\n",
    "\n",
    "# This computes the correlation between the different variables in pten\n",
    "copy_affy = correlation(pten.column(\"Copy Number\"), pten.column(\"mRNA Expression (Affy)\"))\n",
    "copy_rnaseq = correlation(pten.column(\"Copy Number\"), pten.column(\"mRNA Expression (RNAseq)\"))\n",
    "affy_rnaseq = correlation(pten.column(\"mRNA Expression (Affy)\"), pten.column(\"mRNA Expression (RNAseq)\"))\n",
    "\n",
    "print(f\" \\\n",
    "      Copy Number vs. mRNA Expression (Affy) Correlation: {copy_affy}, \\n \\\n",
    "      Copy Number vs. mRNA Expression (RNAseq) Correlation: {copy_rnaseq}, \\n \\\n",
    "      mRNA Expression (Affy) vs. mRNA Expression (RNAseq) Correlation: {affy_rnaseq}\")"
   ]
  },
  {
   "cell_type": "code",
   "execution_count": null,
   "id": "welsh-cincinnati",
   "metadata": {
    "deletable": false,
    "editable": false
   },
   "outputs": [],
   "source": [
    "ok.grade(\"q1_4\");"
   ]
  },
  {
   "cell_type": "markdown",
   "id": "japanese-shelter",
   "metadata": {
    "deletable": false,
    "editable": false
   },
   "source": [
    "**Question 5**\n",
    "\n",
    "If we switch what we input as arguments to `correlation`, i.e. found the correlation between `mRNA Expression (Affy)` vs. `Copy Number` instead of the other way around, would the correlation change? Assign `correlation_change` to either `True` if you think yes, or `False` if you think no.\n",
    "\n",
    "<!--\n",
    "BEGIN QUESTION\n",
    "name: q1_5\n",
    "manual: false\n",
    "-->"
   ]
  },
  {
   "cell_type": "code",
   "execution_count": 18,
   "id": "overhead-advancement",
   "metadata": {},
   "outputs": [],
   "source": [
    "correlation_change = ..."
   ]
  },
  {
   "cell_type": "code",
   "execution_count": null,
   "id": "vulnerable-extent",
   "metadata": {
    "deletable": false,
    "editable": false
   },
   "outputs": [],
   "source": [
    "ok.grade(\"q1_5\");"
   ]
  },
  {
   "cell_type": "markdown",
   "id": "moved-majority",
   "metadata": {
    "deletable": false,
    "editable": false
   },
   "source": [
    "**Question 6**\n",
    "\n",
    "Looking at both the scatter plots after Question 2 and the correlations computed in Question 4, what similarities or differences do you see in the strength of the linear relationships?\n",
    "\n",
    "<!--\n",
    "BEGIN QUESTION\n",
    "name: q1_6\n",
    "manual: true\n",
    "-->\n",
    "<!-- EXPORT TO PDF -->"
   ]
  },
  {
   "cell_type": "markdown",
   "id": "spanish-department",
   "metadata": {
    "export_pdf": true
   },
   "source": [
    "*Write your answer here, replacing this text.*"
   ]
  },
  {
   "cell_type": "markdown",
   "id": "iraqi-lafayette",
   "metadata": {
    "deletable": false,
    "editable": false
   },
   "source": [
    "**Question 7**\n",
    "\n",
    "Let's look at the relationship between mRNA Expression (Affy) vs. mRNA Expression (RNAseq) only. Define a function called `regression_parameters` that returns the parameters of the regression line as a two-item array containing the slope and intercept of the regression line as the first and second elements respectively. The function `regression_parameters` takes in two arguments, an array of `x` values, and an array of `y` values.\n",
    "\n",
    "Note: Feel free to use as many lines as needed to define the slope and interecept of `regression_parameters`.\n",
    "\n",
    "*Hint: You should use a function you previously defined to calculate any intermediate quantities needed.*\n",
    "\n",
    "<!--\n",
    "BEGIN QUESTION\n",
    "name: q1_7\n",
    "manual: false\n",
    "-->"
   ]
  },
  {
   "cell_type": "code",
   "execution_count": 21,
   "id": "unusual-suite",
   "metadata": {},
   "outputs": [],
   "source": [
    "def regression_parameters(x, y):\n",
    "    ...\n",
    "    slope = ...\n",
    "    intercept = ...\n",
    "    return make_array(slope, intercept)\n",
    "\n",
    "parameters = regression_parameters(pten.column(\"mRNA Expression (Affy)\"), pten.column(\"mRNA Expression (RNAseq)\"))\n",
    "parameters"
   ]
  },
  {
   "cell_type": "code",
   "execution_count": null,
   "id": "single-prophet",
   "metadata": {
    "deletable": false,
    "editable": false
   },
   "outputs": [],
   "source": [
    "ok.grade(\"q1_7\");"
   ]
  },
  {
   "cell_type": "markdown",
   "id": "occupied-active",
   "metadata": {
    "deletable": false,
    "editable": false
   },
   "source": [
    "**Question 8**\n",
    "\n",
    "If we switch what we input as arguments to `regression_parameters`, i.e. found the parameters for the regression line for `mRNA Expression (RNAseq)` vs. `mRNA Expression (Affy)` instead of the other way around, would the regression parameters change (would the slope and/or intercept change)? Assign `parameters_change` to either `True` if you think yes, or `False` if you think no.\n",
    "\n",
    "<!--\n",
    "BEGIN QUESTION\n",
    "name: q1_8\n",
    "manual: false\n",
    "-->"
   ]
  },
  {
   "cell_type": "code",
   "execution_count": 24,
   "id": "warming-sauce",
   "metadata": {},
   "outputs": [],
   "source": [
    "parameters_change = ..."
   ]
  },
  {
   "cell_type": "code",
   "execution_count": null,
   "id": "reported-fancy",
   "metadata": {
    "deletable": false,
    "editable": false
   },
   "outputs": [],
   "source": [
    "ok.grade(\"q1_8\");"
   ]
  },
  {
   "cell_type": "markdown",
   "id": "unauthorized-uganda",
   "metadata": {
    "deletable": false,
    "editable": false
   },
   "source": [
    "**Question 9**\n",
    "\n",
    "Now, let's look at how the regression parameters look like in standard units. Use the table `pten_su` and the function `regression_parameters`, and assign `parameters_su` to a two-item array containing the slope and the intercept of the regression line for mRNA Expression (Affy) in standard units vs. mRNA Expression (RNAseq) in standard units.\n",
    "\n",
    "\n",
    "<!--\n",
    "BEGIN QUESTION\n",
    "name: q1_9\n",
    "manual: false\n",
    "-->"
   ]
  },
  {
   "cell_type": "code",
   "execution_count": 27,
   "id": "monthly-presentation",
   "metadata": {},
   "outputs": [],
   "source": [
    "parameters_su = ...\n",
    "parameters_su"
   ]
  },
  {
   "cell_type": "code",
   "execution_count": null,
   "id": "compound-blend",
   "metadata": {
    "deletable": false,
    "editable": false
   },
   "outputs": [],
   "source": [
    "ok.grade(\"q1_9\");"
   ]
  },
  {
   "cell_type": "markdown",
   "id": "civilian-scholarship",
   "metadata": {},
   "source": [
    "If you are unfamiliar with scientific notation, running the following cell will help you see the slope and intercept more clearly."
   ]
  },
  {
   "cell_type": "code",
   "execution_count": 30,
   "id": "paperback-language",
   "metadata": {},
   "outputs": [],
   "source": [
    "round(parameters_su.item(0), 2), round(parameters_su.item(1), 2)"
   ]
  },
  {
   "cell_type": "markdown",
   "id": "welsh-concept",
   "metadata": {
    "deletable": false,
    "editable": false
   },
   "source": [
    "**Question 10**\n",
    "\n",
    "Looking at the array `parameters_su`, what do you notice about the slope and intercept values specifically? Relate the slope to another value we already calculated in a previous question, and relate the slope & intercept pair from `parameters_su` to an equation of the regression line.\n",
    "\n",
    "\n",
    "<!--\n",
    "BEGIN QUESTION\n",
    "name: q1_10\n",
    "manual: true\n",
    "-->\n",
    "<!-- EXPORT TO PDF -->"
   ]
  },
  {
   "cell_type": "markdown",
   "id": "middle-bench",
   "metadata": {
    "export_pdf": true
   },
   "source": [
    "*Write your answer here, replacing this text.*"
   ]
  },
  {
   "cell_type": "markdown",
   "id": "lasting-profession",
   "metadata": {
    "deletable": false,
    "editable": false
   },
   "source": [
    "**Question 11**\n",
    "\n",
    "The Data8 cell line is missing from our dataset. Luckily, we now have the parameters of a regression line to\n",
    "predict Data8 mRNA Expression (RNAseq) value given a Data8 mRNA Expression (Affy) value. Remember, this is\n",
    "significant because this is the goal of regression - to predict a value given another. If mRNA expression (Affy) =\n",
    "8.2, what is our regression estimate of RNAseq? Use the values in `parameters` that we derived in Question\n",
    "1.7, and assign the result to `data8_rnaseq` .\n",
    "\n",
    "<!--\n",
    "BEGIN QUESTION\n",
    "name: q1_11\n",
    "manual: true\n",
    "-->\n",
    "<!-- EXPORT TO PDF -->"
   ]
  },
  {
   "cell_type": "code",
   "execution_count": 31,
   "id": "precise-enforcement",
   "metadata": {
    "export_pdf": true
   },
   "outputs": [],
   "source": [
    "data8_rnaseq = ...\n",
    "data8_rnaseq"
   ]
  },
  {
   "cell_type": "code",
   "execution_count": null,
   "id": "crazy-copyright",
   "metadata": {
    "deletable": false,
    "editable": false
   },
   "outputs": [],
   "source": [
    "ok.grade(\"q1_11\");"
   ]
  },
  {
   "cell_type": "markdown",
   "id": "worthy-humanitarian",
   "metadata": {
    "deletable": false,
    "editable": false
   },
   "source": [
    "**Question 12**\n",
    "\n",
    "Compute the predicted mRNA Expression (RNAseq) values from the mRNA Expression (Affy) values in the `pten` table. Use the values in the `parameters` array from Question 1.7, and assign the result to `predicted_rnaseq`. We'll plot your computed regression line with the scatter plot from after question 1.2 of mRNA Expression (Affy) vs. mRNA Expression (RNAseq).\n",
    "\n",
    "*Sanity Check: Given the strong correlation between the two variables, does your regression line make sense / have a good fit?*\n",
    "\n",
    "\n",
    "<!--\n",
    "BEGIN QUESTION\n",
    "name: q1_12\n",
    "manual: true\n",
    "-->\n",
    "<!-- EXPORT TO PDF -->"
   ]
  },
  {
   "cell_type": "code",
   "execution_count": 34,
   "id": "demonstrated-server",
   "metadata": {
    "export_pdf": true
   },
   "outputs": [],
   "source": [
    "predicted_rnaseq = ...\n",
    "\n",
    "# DON'T CHANGE/DELETE ANY OF THE BELOW CODE IN THIS CELL\n",
    "(pten.with_column(\"Predicted mRNA Expression (RNAseq)\", predicted_rnaseq)\n",
    " .select(\"mRNA Expression (Affy)\", \"mRNA Expression (RNAseq)\", \"Predicted mRNA Expression (RNAseq)\")\n",
    " .scatter(\"mRNA Expression (Affy)\"))\n",
    "plt.ylabel(\"mRNA Expression (RNAseq)\");"
   ]
  },
  {
   "cell_type": "markdown",
   "id": "bronze-education",
   "metadata": {},
   "source": [
    "### Fitting a least-squares regression line"
   ]
  },
  {
   "cell_type": "markdown",
   "id": "colored-missouri",
   "metadata": {},
   "source": [
    "Recall that the least-square regression line is the unique straight line that minimizes root mean squared error (RMSE) among all possible fit lines. Using this property, we can find the equation of the regression line by finding the pair of slope and intercept values that minimize root mean squared error."
   ]
  },
  {
   "cell_type": "markdown",
   "id": "hidden-harassment",
   "metadata": {
    "deletable": false,
    "editable": false
   },
   "source": [
    "**Question 13**\n",
    "\n",
    "Define a function called `RMSE_mRNA`. It should take two arguments:\n",
    "\n",
    "1. the slope of a line (a number)\n",
    "2. the intercept of a line (a number).\n",
    "\n",
    "It should return a number that is the root mean squared error (RMSE) for a line defined with the arguments slope and intercept used to predict mRNA Expression (RNAseq) values from mRNA Expression (Affy) values for each row in the `pten` table.\n",
    "\n",
    "*Hint: Errors are defined as the difference between the actual `y` values and the predicted `y` values.*\n",
    "\n",
    "*Note: if you need a refresher on RMSE, here's the [link](https://www.inferentialthinking.com/chapters/15/3/Method_of_Least_Squares.html#Root-Mean-Squared-Error) from the textbook*\n",
    "\n",
    "<!--\n",
    "BEGIN QUESTION\n",
    "name: q1_13\n",
    "manual: false\n",
    "-->"
   ]
  },
  {
   "cell_type": "code",
   "execution_count": 35,
   "id": "historical-message",
   "metadata": {},
   "outputs": [],
   "source": [
    "def RMSE_mRNA(slope, intercept):\n",
    "    affy = pten.column(\"mRNA Expression (Affy)\")\n",
    "    rnaseq = pten.column(\"mRNA Expression (RNAseq)\")\n",
    "    predicted_rnaseq = ...\n",
    "    ...\n",
    "\n",
    "# DON'T CHANGE THE FOLLOWING LINES BELOW IN THIS CELL\n",
    "rmse_example = RMSE_mRNA(0.5, 6)\n",
    "rmse_example"
   ]
  },
  {
   "cell_type": "code",
   "execution_count": null,
   "id": "hourly-junction",
   "metadata": {
    "deletable": false,
    "editable": false
   },
   "outputs": [],
   "source": [
    "ok.grade(\"q1_13\");"
   ]
  },
  {
   "cell_type": "markdown",
   "id": "comparative-weight",
   "metadata": {
    "deletable": false,
    "editable": false
   },
   "source": [
    "**Question 14**\n",
    "\n",
    "What is the RMSE of a line with slope 0 and intercept of the mean of `y` equal to?\n",
    "\n",
    "*Hint 1: The line with slope 0 and intercept of mean of `y` is just a straight horizontal line at the mean of `y`*\n",
    "\n",
    "*Hint 2: What does the formula for RMSE become if we input our predicted `y` values in the formula? Try writing it out on paper! It should be a familiar formula.*\n",
    "\n",
    "<!--\n",
    "BEGIN QUESTION\n",
    "name: q1_14\n",
    "manual: true\n",
    "-->\n",
    "<!-- EXPORT TO PDF -->"
   ]
  },
  {
   "cell_type": "markdown",
   "id": "packed-amazon",
   "metadata": {
    "export_pdf": true
   },
   "source": [
    "*Write your answer here, replacing this text.*"
   ]
  },
  {
   "cell_type": "markdown",
   "id": "overall-quantity",
   "metadata": {
    "deletable": false,
    "editable": false
   },
   "source": [
    "**Question 15**\n",
    "\n",
    "Find the parameters (the slope and intercept) that minimize RMSE of the regression line for mRNA Expression (Affy) vs. mRNA Expression (RNAseq). Assign the result to `minimized_parameters`.\n",
    "\n",
    "If you haven't tried to use the `minimize` [function](http://data8.org/sp20/python-reference.html) yet, now is a great time to practice. Here's an [example from the textbook](https://www.inferentialthinking.com/chapters/15/3/Method_of_Least_Squares.html#numerical-optimization).\n",
    "\n",
    "*Hint: Use the `RMSE_mRNA` function in Question 1.13*\n",
    "\n",
    "**NOTE: When you use the minimize function, please pass in `smooth=True` as the second argument to this function. You'll need to do this, otherwise, your answer will be incorrect**\n",
    "\n",
    "<!--\n",
    "BEGIN QUESTION\n",
    "name: q1_15\n",
    "manual: false\n",
    "-->"
   ]
  },
  {
   "cell_type": "code",
   "execution_count": 38,
   "id": "practical-queensland",
   "metadata": {},
   "outputs": [],
   "source": [
    "minimized_parameters = ...\n",
    "minimized_parameters"
   ]
  },
  {
   "cell_type": "code",
   "execution_count": null,
   "id": "satisfied-operator",
   "metadata": {
    "deletable": false,
    "editable": false
   },
   "outputs": [],
   "source": [
    "ok.grade(\"q1_15\");"
   ]
  },
  {
   "cell_type": "markdown",
   "id": "other-intensity",
   "metadata": {
    "deletable": false,
    "editable": false
   },
   "source": [
    "**Question 16**\n",
    "\n",
    "The slope and intercept pair you found in Question 1.15 should be very similar to the values that you found in Question 1.7. Why were we able to minimize RMSE to find the same slope and intercept from the previous formulas?\n",
    "\n",
    "\n",
    "<!--\n",
    "BEGIN QUESTION\n",
    "name: q1_16\n",
    "manual: true\n",
    "-->\n",
    "<!-- EXPORT TO PDF -->"
   ]
  },
  {
   "cell_type": "markdown",
   "id": "desirable-ireland",
   "metadata": {
    "export_pdf": true
   },
   "source": [
    "*Write your answer here, replacing this text.*"
   ]
  },
  {
   "cell_type": "markdown",
   "id": "theoretical-preservation",
   "metadata": {
    "deletable": false,
    "editable": false
   },
   "source": [
    "**Question 17**\n",
    "\n",
    "If we had instead minimized mean squared error (MSE), would we have gotten the same slope and intercept of the minimized root mean squared error (RMSE) results? Assign `same_parameters` to either `True` if you think yes, or `False` if you think no.\n",
    "\n",
    "\n",
    "<!--\n",
    "BEGIN QUESTION\n",
    "name: q1_17\n",
    "manual: false\n",
    "-->"
   ]
  },
  {
   "cell_type": "code",
   "execution_count": 42,
   "id": "military-ridge",
   "metadata": {},
   "outputs": [],
   "source": [
    "same_parameters = ...\n",
    "same_parameters"
   ]
  },
  {
   "cell_type": "code",
   "execution_count": null,
   "id": "plain-lighter",
   "metadata": {
    "deletable": false,
    "editable": false
   },
   "outputs": [],
   "source": [
    "ok.grade(\"q1_17\");"
   ]
  },
  {
   "cell_type": "markdown",
   "id": "indian-activation",
   "metadata": {},
   "source": [
    "Let's look at the scatter plot of the relationship between mRNA Expression (Affy) and mRNA Expression (RNAseq) again:"
   ]
  },
  {
   "cell_type": "code",
   "execution_count": 45,
   "id": "occupational-silicon",
   "metadata": {},
   "outputs": [],
   "source": [
    "pten.scatter(\"mRNA Expression (Affy)\", \"mRNA Expression (RNAseq)\")"
   ]
  },
  {
   "cell_type": "markdown",
   "id": "civic-album",
   "metadata": {
    "deletable": false,
    "editable": false
   },
   "source": [
    "**Question 18**\n",
    "\n",
    "Using a linear regression model, would we be able to obtain accurate predictions of mRNA Expression (RNAseq) for most of the points? Explain why or why not.\n",
    "\n",
    "\n",
    "<!--\n",
    "BEGIN QUESTION\n",
    "name: q1_18\n",
    "manual: true\n",
    "-->\n",
    "<!-- EXPORT TO PDF -->"
   ]
  },
  {
   "cell_type": "markdown",
   "id": "united-roots",
   "metadata": {
    "export_pdf": true
   },
   "source": [
    "*Write your answer here, replacing this text.*"
   ]
  },
  {
   "cell_type": "code",
   "execution_count": null,
   "id": "disabled-weapon",
   "metadata": {},
   "outputs": [],
   "source": []
  },
  {
   "cell_type": "markdown",
   "id": "thirty-tenant",
   "metadata": {},
   "source": [
    "## 2. Properties of Binary Distributions\n"
   ]
  },
  {
   "cell_type": "markdown",
   "id": "dedicated-geometry",
   "metadata": {},
   "source": [
    "Binary distributions arise in regular everyday life, and as data scientists you will encounter them constantly. A binary distribution is a distribution across two categories: such as voting in support of a proposition or voting against it on your local ballot, flipping heads or tails, having heart disease or not having heart disease. Generally we represent 'yes' or `True` as 1, and 'no' or `False` as 0. Binary distributions have some special properties that make working with them especially easy!\n",
    "\n",
    "For further reading on binary distributions: [Chapter 14.6](https://inferentialthinking.com/chapters/14/6/Choosing_a_Sample_Size.html#The-SD-of-a-collection-of-0's-and-1's)\n"
   ]
  },
  {
   "cell_type": "markdown",
   "id": "right-footage",
   "metadata": {},
   "source": [
    "**The intent of this section of the homework is to walk you through these properties, so we decided to make all of the tests for this section public (i.e. there are no hidden tests to worry about for this section only).**\n",
    "\n",
    "### **If you pass all tests in the following section, you will receive full credit.**"
   ]
  },
  {
   "cell_type": "markdown",
   "id": "through-linux",
   "metadata": {
    "deletable": false,
    "editable": false
   },
   "source": [
    "#### Question 1\n",
    "\n",
    "Let's generate a random binary distribution of 0's and 1's. Assign `binary_options` to the correct array of possible values in a binary distribution (i.e. look at the previous sentence).\n",
    "\n",
    "\n",
    "<!--\n",
    "BEGIN QUESTION\n",
    "name: q2_1\n",
    "manual: false\n",
    "-->"
   ]
  },
  {
   "cell_type": "code",
   "execution_count": 46,
   "id": "honey-gardening",
   "metadata": {
    "ExecuteTime": {
     "end_time": "2018-03-20T04:34:23.388186Z",
     "start_time": "2018-03-20T04:34:23.372185Z"
    },
    "deletable": false,
    "manual_problem_id": "sample_with_proportions"
   },
   "outputs": [],
   "source": [
    "binary_options = ...\n",
    "\n",
    "\n",
    "# DON'T DELETE/MODIFY ANY OF THE CODE IN THIS CELL BELOW\n",
    "sample_size = 100\n",
    "binary_sample = np.random.choice(binary_options, sample_size)\n",
    "\n",
    "# Run this to see a bar chart of this random distribution.\n",
    "Table().with_columns(\"Value\", make_array(1, 0), \"Number in Sample\", make_array(sum(binary_sample), sample_size - sum(binary_sample))).barh(\"Value\")"
   ]
  },
  {
   "cell_type": "code",
   "execution_count": null,
   "id": "acquired-blanket",
   "metadata": {
    "deletable": false,
    "editable": false
   },
   "outputs": [],
   "source": [
    "ok.grade(\"q2_1\");"
   ]
  },
  {
   "cell_type": "markdown",
   "id": "useful-rochester",
   "metadata": {
    "deletable": false,
    "editable": false
   },
   "source": [
    "#### Question 2\n",
    "\n",
    "The first property you should note is that the proportion of ones in a binary distribution is equal to the mean of the distribution. [Think about why this is true](https://www.inferentialthinking.com/chapters/14/1/Properties_of_the_Mean.html#Proportions-are-Means). Complete the following cell to show that this is the case for your `binary_sample`. Assign `number_of_ones` and `number_of_zeros` to the number of `1`'s and the number of `0`'s respectively from your `binary_sample`.\n",
    "\n",
    "\n",
    "<!--\n",
    "BEGIN QUESTION\n",
    "name: q2_2\n",
    "manual: false\n",
    "-->"
   ]
  },
  {
   "cell_type": "code",
   "execution_count": 49,
   "id": "accepting-villa",
   "metadata": {
    "ExecuteTime": {
     "end_time": "2018-03-20T04:35:22.190065Z",
     "start_time": "2018-03-20T04:35:21.777769Z"
    },
    "deletable": false,
    "manual_problem_id": "resample_yes_proportions"
   },
   "outputs": [],
   "source": [
    "number_of_ones = ...\n",
    "number_of_zeros = ...\n",
    "\n",
    "\n",
    "# DON'T DELETE/MODIFY ANY OF THE CODE BELOW IN THIS CELL\n",
    "number_values = len(binary_sample)\n",
    "sum_of_binary_sample = sum(binary_sample)\n",
    "# Remember that the mean is equal to the sum divided by the number of items\n",
    "mean_binary_sample = sum_of_binary_sample / number_values\n",
    "\n",
    "# Don't change this!\n",
    "print(f\"In your binary sample there were {number_of_ones} ones and {number_of_zeros} zeros. 1*{number_of_ones} + 0*{number_of_zeros} = {number_of_ones}\")\n",
    "print(f\"The sum of values in your sample was {sum_of_binary_sample}, divided by the number of items, {number_values}, gives us a mean of {mean_binary_sample}\")\n",
    "print(f\"The proportion of ones in your sample was {number_of_ones} ones, divided by the number of items, {number_values}, gives us a value of {mean_binary_sample}\" )\n",
    "print('Those values are equal!')"
   ]
  },
  {
   "cell_type": "code",
   "execution_count": null,
   "id": "funky-wales",
   "metadata": {
    "deletable": false,
    "editable": false
   },
   "outputs": [],
   "source": [
    "ok.grade(\"q2_2\");"
   ]
  },
  {
   "cell_type": "markdown",
   "id": "single-qatar",
   "metadata": {},
   "source": [
    "Since the proportion of ones is the same as the mean, the Central Limit Theorem applies! That is, if we resample our sample a lot of times, the distribution of the proportion of ones in our resamples will be roughly normal, with a predictable center and spread!"
   ]
  },
  {
   "cell_type": "code",
   "execution_count": 51,
   "id": "smoking-recorder",
   "metadata": {
    "deletable": false,
    "editable": false
   },
   "outputs": [],
   "source": [
    "# Just run this cell\n",
    "resampled_proportion_of_ones = make_array()\n",
    "\n",
    "for i in np.arange(5000):\n",
    "    resample = Table().with_column(\"Value\", binary_sample).sample()\n",
    "    resample_proportion_ones = resample.where(\"Value\", 1).num_rows / resample.num_rows\n",
    "    resampled_proportion_of_ones = np.append(resampled_proportion_of_ones, resample_proportion_ones)\n",
    "    \n",
    "Table().with_column('Resampled Proportions', resampled_proportion_of_ones).hist()"
   ]
  },
  {
   "cell_type": "markdown",
   "id": "accepting-remainder",
   "metadata": {},
   "source": [
    "Let's generate a table where each row has a different number of ones and zeros that we'll use for the following parts."
   ]
  },
  {
   "cell_type": "code",
   "execution_count": 52,
   "id": "mature-creativity",
   "metadata": {
    "deletable": false,
    "editable": false
   },
   "outputs": [],
   "source": [
    "# Just run this cell\n",
    "possible_number_ones = np.arange(sample_size + 1)\n",
    "possible_number_zeros = sample_size - possible_number_ones\n",
    "\n",
    "possibilities_table = Table().with_columns(\"Values of One\", possible_number_ones, \"Values of Zero\", possible_number_zeros)\n",
    "possibilities_table.show(5)"
   ]
  },
  {
   "cell_type": "markdown",
   "id": "ongoing-squad",
   "metadata": {
    "deletable": false,
    "editable": false
   },
   "source": [
    "#### Question 3\n",
    "The second important property of binary distributions is that the standard deviation of every binary distribution is equal to:\n",
    "$$\\sqrt{\\text{proportion_ones} *\\text{proportion_zeros}}$$\n",
    "\n",
    "While this property is useful in some cases, a more useful extension of this property is that it tells us that the maximum standard deviation for a binary distribution is 0.5!\n",
    "\n",
    "Let's explore why that is the case!\n",
    "\n",
    "Complete the `binary_std_formula` function below so that it returns the standard deviation of a binary distribution according to the formula above. The function takes in a `row` that looks like a row in `possibilities_table`. \n",
    "\n",
    "\n",
    "<!--\n",
    "BEGIN QUESTION\n",
    "name: q2_3\n",
    "manual: false\n",
    "-->"
   ]
  },
  {
   "cell_type": "code",
   "execution_count": 53,
   "id": "sunrise-rapid",
   "metadata": {
    "deletable": false,
    "manual_problem_id": "polling_3"
   },
   "outputs": [],
   "source": [
    "def binary_std_formula(row):\n",
    "    num_ones = row.item(\"Values of One\")\n",
    "    num_zeros = row.item(\"Values of Zero\")\n",
    "    \n",
    "    sum_ones_and_zeros = ...\n",
    "    prop_ones = ...\n",
    "    prop_zeros = ...\n",
    "    ...\n",
    "\n",
    "# DON'T DELETE/MODIFY ANY OF THE LINES BELOW IN THIS CELL\n",
    "possibilities_table = possibilities_table.with_column(\"Formula SD\", possibilities_table.apply(binary_std_formula))\n",
    "possibilities_table.show(5)"
   ]
  },
  {
   "cell_type": "code",
   "execution_count": null,
   "id": "cellular-gross",
   "metadata": {
    "deletable": false,
    "editable": false
   },
   "outputs": [],
   "source": [
    "ok.grade(\"q2_3\");"
   ]
  },
  {
   "cell_type": "markdown",
   "id": "sapphire-multimedia",
   "metadata": {},
   "source": [
    "Here's another function that takes in a row object from a table, generates a sample that has the same number of ones and zeros as the row specifies, and then returns the standard deviation of that table. You should be able to understand exactly what this function does! It also does the same thing as above, where we return the standard deviation, but we just use `np.std` for this function."
   ]
  },
  {
   "cell_type": "code",
   "execution_count": 55,
   "id": "sound-looking",
   "metadata": {
    "deletable": false,
    "editable": false
   },
   "outputs": [],
   "source": [
    "# Just run this cell\n",
    "def binary_std(row):\n",
    "    values = make_array()\n",
    "    for i in np.arange(row.item(\"Values of One\")):\n",
    "        values = np.append(values, 1)\n",
    "    for i in np.arange(row.item(\"Values of Zero\")):\n",
    "        values = np.append(values, 0)\n",
    "    return np.std(values)\n",
    "\n",
    "possibilities_table = possibilities_table.with_column(\"Empirical SD\", possibilities_table.apply(binary_std))\n",
    "possibilities_table.show(5)"
   ]
  },
  {
   "cell_type": "markdown",
   "id": "compressed-shape",
   "metadata": {},
   "source": [
    "All the values are the same! Let's see what this formula means!"
   ]
  },
  {
   "cell_type": "code",
   "execution_count": 56,
   "id": "intermediate-attempt",
   "metadata": {
    "deletable": false,
    "editable": false
   },
   "outputs": [],
   "source": [
    "# Just run this cell\n",
    "possibilities_table.scatter(\"Values of One\", \"Formula SD\")"
   ]
  },
  {
   "cell_type": "markdown",
   "id": "phantom-possible",
   "metadata": {},
   "source": [
    "What a beautiful curve!\n",
    "\n",
    "Looking at that curve, we can see that maximum value is $0.5$, which occurs in the middle of the distribution, when the two categories have equal proportions (proportion of ones = proportion of zeros = $\\frac{1}{2}$)."
   ]
  },
  {
   "cell_type": "markdown",
   "id": "inclusive-annotation",
   "metadata": {},
   "source": [
    "## (OPTIONAL, NOT IN SCOPE) Logarithmic Plots"
   ]
  },
  {
   "cell_type": "markdown",
   "id": "involved-wholesale",
   "metadata": {},
   "source": [
    "A kind of visualization you will frequently encounter as a data scientist is a scatter plot or line plot that uses a logarithmic scale. This **Optional** section will cover how to read and generate logarithmic plots. Since this is optional, there is no autograded/free response questions for these sections. Just read, run cells, and explore."
   ]
  },
  {
   "cell_type": "markdown",
   "id": "foreign-petersburg",
   "metadata": {},
   "source": [
    "What is a logarithm? A logarithm helps us find the inverse of an equation that uses exponentials. Specifically, if\n",
    "\n",
    "$$a^y = x$$\n",
    "\n",
    "Then\n",
    "\n",
    "$$\\log_a{x} = y$$\n",
    "\n",
    "The most commonly used $a$, which is known as the base of the logarithm, is $e$, which is equivalent to about 2.718, or 10 (for powers of 10).\n",
    "\n",
    "We can use `numpy` to take logs in Python! By default, np.log uses a base of e."
   ]
  },
  {
   "cell_type": "code",
   "execution_count": 57,
   "id": "exciting-athletics",
   "metadata": {},
   "outputs": [],
   "source": [
    "make_array(np.log(np.e), np.log(np.e**2), np.log(100))"
   ]
  },
  {
   "cell_type": "markdown",
   "id": "robust-thesaurus",
   "metadata": {},
   "source": [
    "Back to the visualization: when we are plotting trends that grow exponentially, such as the line\n",
    "\n",
    "$$ y = e^x$$\n",
    "\n",
    "our y-axis needs to have a large range of values, which makes it difficult to understand.\n",
    "\n",
    "Let's see what this looks like:"
   ]
  },
  {
   "cell_type": "code",
   "execution_count": 58,
   "id": "improving-cornell",
   "metadata": {},
   "outputs": [],
   "source": [
    "x = np.arange(0, 10, 1/100)\n",
    "y = 10 ** x\n",
    "\n",
    "Table().with_columns(\"X\", x, \"Y\", y).scatter(0,1)"
   ]
  },
  {
   "cell_type": "markdown",
   "id": "falling-intellectual",
   "metadata": {},
   "source": [
    "Note that since $10^{10}$ is so big, we can't really see what's happening at all to the y values when they have x values below 8.\n",
    "\n",
    "One solution to this to change our y and/or x axis so that instead of having even spaces between the tick marks, our marks grow by an uneven factor. We do this by making the tick marks go on a logarithmic scale, and we'll then be able to understand our data better!"
   ]
  },
  {
   "cell_type": "code",
   "execution_count": 59,
   "id": "decreased-entry",
   "metadata": {},
   "outputs": [],
   "source": [
    "Table().with_columns(\"X\", x, \"Y\", y).scatter(0,1)\n",
    "plt.yscale(\"log\")"
   ]
  },
  {
   "cell_type": "markdown",
   "id": "intermediate-startup",
   "metadata": {},
   "source": [
    "Now we can tell what's happening to the y values for every x value!\n",
    "\n",
    "Note how the y values start at $10^0=1$, and increase by a *factor* of $10$ each mark - the next mark is $10^1 = 10$, then $10^2=100$.\n",
    "\n",
    "You still read this plot like a normal plot, so at a value of $x=5, y=10^5=10000$.\n",
    "\n",
    "How do you calculate intermediate values? \n",
    "\n",
    "At a value like $x = 2.5$ it looks like the y value is somewhere in-between $10^1$ and $10^3$. In this graph with a logarithmic scale, you would say that $y=10^{2.5} \\approx 316$."
   ]
  },
  {
   "cell_type": "markdown",
   "id": "chemical-kinase",
   "metadata": {},
   "source": [
    "When visualizing data about the spread of diseases, you will commonly run into plots with logarithmic scales, such as this example from the New York Times. Make sure to always know what the scales of the data are! \n",
    "\n",
    "<img src=\"virus-log-chart.jpg\" width=\"650\"/>\n",
    "\n",
    "Image is from https://www.nytimes.com/2020/03/20/health/coronavirus-data-logarithm-chart.html"
   ]
  },
  {
   "cell_type": "markdown",
   "id": "chicken-plain",
   "metadata": {},
   "source": [
    "## 3. Submission\n"
   ]
  },
  {
   "cell_type": "markdown",
   "id": "organic-structure",
   "metadata": {
    "collapsed": true
   },
   "source": [
    "Once you're finished, select \"Save and Checkpoint\" in the File menu and then execute the `submit` cell below. The result will contain a link that you can use to check that your assignment has been submitted successfully. **IMPORTANT: Make sure to check that your submission is not empty. We cannot guarantee that the submission will be valid, so please check it now.** If you submit more than once before the deadline, we will only grade your final submission. If you mistakenly submit the wrong one, you can head to [okpy.org](https://okpy.org/) and flag the correct version. To do so, go to the website, click on this assignment, and find the version you would like to have graded. There should be an option to flag that submission for grading!\n",
    "\n",
    "**NOTE:** The tests that are provided are not comprehensive and act as sanity checks (i.e. to make sure you answer is in the correct form, etc.). Passing the tests for a question does not mean that you answered the question correctly."
   ]
  },
  {
   "cell_type": "code",
   "execution_count": 60,
   "id": "north-championship",
   "metadata": {
    "collapsed": true
   },
   "outputs": [],
   "source": [
    "_ = ok.submit()"
   ]
  },
  {
   "cell_type": "code",
   "execution_count": 61,
   "id": "important-romantic",
   "metadata": {
    "collapsed": true
   },
   "outputs": [],
   "source": [
    "# For your convenience, you can run this cell to run all the tests at once!\n",
    "import os\n",
    "print(\"Running all tests...\")\n",
    "_ = [ok.grade(q[:-3]) for q in os.listdir(\"tests\") if q.startswith('q') and len(q) <= 10]\n",
    "print(\"Finished running all tests.\")"
   ]
  }
 ],
 "metadata": {
  "kernelspec": {
   "display_name": "Python 3",
   "language": "python",
   "name": "python3"
  },
  "language_info": {
   "codemirror_mode": {
    "name": "ipython",
    "version": 3
   },
   "file_extension": ".py",
   "mimetype": "text/x-python",
   "name": "python",
   "nbconvert_exporter": "python",
   "pygments_lexer": "ipython3",
   "version": "3.9.1"
  }
 },
 "nbformat": 4,
 "nbformat_minor": 5
}
